{
 "cells": [
  {
   "cell_type": "markdown",
   "id": "edf25561",
   "metadata": {},
   "source": [
    "## AIのデータ生成"
   ]
  },
  {
   "cell_type": "code",
   "execution_count": 1,
   "id": "bcf4bbe9",
   "metadata": {},
   "outputs": [
    {
     "name": "stdout",
     "output_type": "stream",
     "text": [
      "c:\\Users\\Owner\\source\\repos\\ds_bias\\neosim2\\preprocessing\n"
     ]
    }
   ],
   "source": [
    "!@cd"
   ]
  },
  {
   "cell_type": "code",
   "execution_count": 2,
   "id": "07293f34",
   "metadata": {},
   "outputs": [],
   "source": [
    "import numpy as np\n",
    "import polars as pl"
   ]
  },
  {
   "cell_type": "code",
   "execution_count": 3,
   "id": "dd4cd224",
   "metadata": {},
   "outputs": [],
   "source": [
    "import json"
   ]
  },
  {
   "cell_type": "code",
   "execution_count": 4,
   "id": "3c9dd55a",
   "metadata": {},
   "outputs": [],
   "source": [
    "import sys\n",
    "sys.path.append(f\"../../neosim/exp\")"
   ]
  },
  {
   "cell_type": "code",
   "execution_count": 5,
   "id": "02b74525",
   "metadata": {},
   "outputs": [],
   "source": [
    "from ai_simulator import generate_confusion_matrix, get_dataset_human_acc, generate_ai_dataset"
   ]
  },
  {
   "cell_type": "code",
   "execution_count": 6,
   "id": "b41584ca",
   "metadata": {},
   "outputs": [],
   "source": [
    "np.random.seed(777)"
   ]
  },
  {
   "cell_type": "markdown",
   "id": "b128d080",
   "metadata": {},
   "source": [
    "## datasets"
   ]
  },
  {
   "cell_type": "code",
   "execution_count": null,
   "id": "8d127f79",
   "metadata": {},
   "outputs": [],
   "source": [
    "datasets = [\"dog\", \"face\", \"tiny\"]\n",
    "ai_accs = [\"-sigma\", \"mean\", \"+sigma\", \"max\"]\n",
    "num_AI = 30"
   ]
  },
  {
   "cell_type": "code",
   "execution_count": 7,
   "id": "62c6181e",
   "metadata": {},
   "outputs": [],
   "source": [
    "datasets = [\"adult\",]\n",
    "ai_accs = [\"-sigma\", \"mean\", \"+sigma\", \"max\"]\n",
    "num_AI = 30"
   ]
  },
  {
   "cell_type": "code",
   "execution_count": 8,
   "id": "cd1c7a08",
   "metadata": {},
   "outputs": [
    {
     "name": "stdout",
     "output_type": "stream",
     "text": [
      "Dataset: adult, r: 3, human_acc: 0.782, human_std: 0.265\n",
      "Dataset: adult, r: 3, ai_acc: -sigma, h: 0.622\n",
      "Dataset: adult, r: 3, ai_acc: mean, h: 0.976\n",
      "Skipping adult r=3 +sigma as it exceeds max accuracy.\n",
      "Dataset: adult, r: 3, ai_acc: max, h: 1.000\n",
      "Dataset: adult, r: 5, human_acc: 0.775, human_std: 0.217\n",
      "Dataset: adult, r: 5, ai_acc: -sigma, h: 0.677\n",
      "Dataset: adult, r: 5, ai_acc: mean, h: 0.967\n",
      "Skipping adult r=5 +sigma as it exceeds max accuracy.\n",
      "Dataset: adult, r: 5, ai_acc: max, h: 1.000\n"
     ]
    }
   ],
   "source": [
    "for dataset_name in datasets:\n",
    "    with open(f\"../human_responses/{dataset_name}_dataset_profile.json\", \"r\") as f:\n",
    "        dataset_profile = json.load(f)\n",
    "\n",
    "    r_range = dataset_profile[\"r_range\"]\n",
    "    n_classes = dataset_profile[\"n_classes\"]\n",
    "    labels = dataset_profile[\"labels\"]\n",
    "\n",
    "    for r in r_range:\n",
    "        human_df = pl.read_csv(f\"../human_responses/{dataset_name}_r={r}.csv\").to_pandas()\n",
    "        gt = pl.read_csv(f\"../human_responses/{dataset_name}_gt.csv\").to_pandas().set_index(\"task\")\n",
    "        human_acc, human_std = get_dataset_human_acc(human_df, gt)\n",
    "        print(f\"Dataset: {dataset_name}, r: {r}, human_acc: {human_acc:.3f}, human_std: {human_std:.3f}\")\n",
    "\n",
    "        for ai_acc in ai_accs:\n",
    "            if ai_acc == \"-sigma\":\n",
    "                ai_acc_value = human_acc - human_std\n",
    "            elif ai_acc == \"mean\":\n",
    "                ai_acc_value = human_acc\n",
    "            elif ai_acc == \"+sigma\":\n",
    "                ai_acc_value = human_acc + human_std\n",
    "            elif ai_acc == \"max\":\n",
    "                ai_acc_value = (n_classes - 1) / n_classes\n",
    "            if ai_acc_value > (n_classes - 1) / n_classes:\n",
    "                print(f\"Skipping {dataset_name} r={r} {ai_acc} as it exceeds max accuracy.\")\n",
    "                continue\n",
    "\n",
    "            h = (n_classes * ai_acc_value * (n_classes-1) - 1) / (n_classes *  (n_classes -2))\n",
    "        \n",
    "            print(f\"Dataset: {dataset_name}, r: {r}, ai_acc: {ai_acc}, h: {h:.3f}\")\n",
    "            \n",
    "            for fixed_target in range(1, n_classes):\n",
    "                cm = generate_confusion_matrix(n_classes, r=h, fixed_index=[[0,fixed_target]])\n",
    "                for i in range(num_AI):\n",
    "                    ai_df = generate_ai_dataset(cm, gt, f\"AI_{ai_acc}_{i}\", labels)\n",
    "                    ai_df.to_csv(f\"../ai_responses/{dataset_name}_r={r}_ai={ai_acc}_target={fixed_target}_run={i}.csv\", index=False)\n"
   ]
  },
  {
   "cell_type": "markdown",
   "id": "0b4b3294",
   "metadata": {},
   "source": [
    "```\n",
    "Dataset: dog, r: 3, human_acc: 0.712, human_std: 0.202\n",
    "Dataset: dog, r: 3, ai_acc: -sigma, h: 0.641\n",
    "Dataset: dog, r: 3, ai_acc: mean, h: 0.944\n",
    "Skipping dog r=3 +sigma as it exceeds max accuracy.\n",
    "Dataset: dog, r: 3, ai_acc: max, h: 1.000\n",
    "Dataset: dog, r: 5, human_acc: 0.704, human_std: 0.182\n",
    "Dataset: dog, r: 5, ai_acc: -sigma, h: 0.657\n",
    "Dataset: dog, r: 5, ai_acc: mean, h: 0.930\n",
    "Skipping dog r=5 +sigma as it exceeds max accuracy.\n",
    "Dataset: dog, r: 5, ai_acc: max, h: 1.000\n",
    "Dataset: dog, r: 10, human_acc: 0.700, human_std: 0.199\n",
    "Dataset: dog, r: 10, ai_acc: -sigma, h: 0.627\n",
    "Dataset: dog, r: 10, ai_acc: mean, h: 0.926\n",
    "Skipping dog r=10 +sigma as it exceeds max accuracy.\n",
    "Dataset: dog, r: 10, ai_acc: max, h: 1.000\n",
    "Dataset: face, r: 3, human_acc: 0.565, human_std: 0.101\n",
    "Dataset: face, r: 3, ai_acc: -sigma, h: 0.570\n",
    "Dataset: face, r: 3, ai_acc: mean, h: 0.722\n",
    "Dataset: face, r: 3, ai_acc: +sigma, h: 0.874\n",
    "Dataset: face, r: 3, ai_acc: max, h: 1.000\n",
    "Dataset: face, r: 5, human_acc: 0.592, human_std: 0.085\n",
    "Dataset: face, r: 5, ai_acc: -sigma, h: 0.636\n",
    "Dataset: face, r: 5, ai_acc: mean, h: 0.763\n",
    "Dataset: face, r: 5, ai_acc: +sigma, h: 0.891\n",
    "Dataset: face, r: 5, ai_acc: max, h: 1.000\n",
    "Dataset: tiny, r: 2, human_acc: 0.710, human_std: 0.223\n",
    "Dataset: tiny, r: 2, ai_acc: -sigma, h: 0.584\n",
    "Dataset: tiny, r: 2, ai_acc: mean, h: 0.880\n",
    "Skipping tiny r=2 +sigma as it exceeds max accuracy.\n",
    "Dataset: tiny, r: 2, ai_acc: max, h: 1.000\n",
    "```"
   ]
  },
  {
   "cell_type": "markdown",
   "id": "c86865bb",
   "metadata": {},
   "source": [
    "```\n",
    "Dataset: adult, r: 3, human_acc: 0.782, human_std: 0.265\n",
    "Dataset: adult, r: 3, ai_acc: -sigma, h: 0.622\n",
    "Dataset: adult, r: 3, ai_acc: mean, h: 0.976\n",
    "Skipping adult r=3 +sigma as it exceeds max accuracy.\n",
    "Dataset: adult, r: 3, ai_acc: max, h: 1.000\n",
    "Dataset: adult, r: 5, human_acc: 0.775, human_std: 0.217\n",
    "Dataset: adult, r: 5, ai_acc: -sigma, h: 0.677\n",
    "Dataset: adult, r: 5, ai_acc: mean, h: 0.967\n",
    "Skipping adult r=5 +sigma as it exceeds max accuracy.\n",
    "Dataset: adult, r: 5, ai_acc: max, h: 1.000\n",
    "```"
   ]
  },
  {
   "cell_type": "code",
   "execution_count": null,
   "id": "4b54d7df",
   "metadata": {},
   "outputs": [],
   "source": []
  }
 ],
 "metadata": {
  "kernelspec": {
   "display_name": "ds-bias-JN70MqDx-py3.11",
   "language": "python",
   "name": "python3"
  },
  "language_info": {
   "codemirror_mode": {
    "name": "ipython",
    "version": 3
   },
   "file_extension": ".py",
   "mimetype": "text/x-python",
   "name": "python",
   "nbconvert_exporter": "python",
   "pygments_lexer": "ipython3",
   "version": "3.11.3"
  }
 },
 "nbformat": 4,
 "nbformat_minor": 5
}
