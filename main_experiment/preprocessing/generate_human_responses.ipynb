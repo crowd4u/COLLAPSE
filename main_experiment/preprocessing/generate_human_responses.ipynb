{
 "cells": [
  {
   "cell_type": "markdown",
   "id": "a8bf615f",
   "metadata": {},
   "source": [
    "# 人間データの生成"
   ]
  },
  {
   "cell_type": "code",
   "execution_count": 1,
   "id": "bf067f6a",
   "metadata": {},
   "outputs": [
    {
     "name": "stdout",
     "output_type": "stream",
     "text": [
      "c:\\Users\\Owner\\source\\repos\\ds_bias\\neosim2\\preprocessing\n"
     ]
    }
   ],
   "source": [
    "!@cd"
   ]
  },
  {
   "cell_type": "code",
   "execution_count": 2,
   "id": "0c307cab",
   "metadata": {},
   "outputs": [],
   "source": [
    "import numpy as np\n",
    "import polars as pl"
   ]
  },
  {
   "cell_type": "code",
   "execution_count": 3,
   "id": "4efdc8b6",
   "metadata": {},
   "outputs": [],
   "source": [
    "import sys\n",
    "sys.path.append(f\"../../neosim/exp\")"
   ]
  },
  {
   "cell_type": "code",
   "execution_count": 4,
   "id": "a2f9ff2f",
   "metadata": {},
   "outputs": [],
   "source": [
    "import json"
   ]
  },
  {
   "cell_type": "code",
   "execution_count": 5,
   "id": "4db306ac",
   "metadata": {},
   "outputs": [],
   "source": [
    "from dataset_preprocessing import change_r"
   ]
  },
  {
   "cell_type": "code",
   "execution_count": 6,
   "id": "a4596289",
   "metadata": {},
   "outputs": [],
   "source": [
    "np.random.seed(777)"
   ]
  },
  {
   "cell_type": "markdown",
   "id": "1aa65f57",
   "metadata": {},
   "source": [
    "### dog"
   ]
  },
  {
   "cell_type": "code",
   "execution_count": 7,
   "id": "ef8fdbe3",
   "metadata": {},
   "outputs": [],
   "source": [
    "raw_df_pl = pl.read_csv(f\"../../datasets/crowd_truth_infer/s4_Dog data/dogs-1.merged.label.tsv\",\n",
    "                separator=\"\\t\",\n",
    "                has_header=False,\n",
    "                new_columns=[\"task\",\"worker\",\"label\"]\n",
    "        )\n",
    "gt = pl.read_csv(f\"../../datasets/crowd_truth_infer/s4_Dog data/truth.csv\",\n",
    "                new_columns=[\"task\",\"gt\"]\n",
    "        )\n",
    "n_classes = 4\n",
    "r_range = [3,5,10]\n",
    "labels = [0,1,2,3]\n",
    "name = \"dog\""
   ]
  },
  {
   "cell_type": "code",
   "execution_count": 8,
   "id": "4851cb5e",
   "metadata": {},
   "outputs": [],
   "source": [
    "def write_data(name, raw_df_pl, r_range, gt):\n",
    "    for r in r_range:\n",
    "        df = change_r(raw_df_pl, r)\n",
    "        df.write_csv(f\"../human_responses/{name}_r={r}.csv\")\n",
    "    gt.write_csv(f\"../human_responses/{name}_gt.csv\")"
   ]
  },
  {
   "cell_type": "code",
   "execution_count": 9,
   "id": "040a3840",
   "metadata": {},
   "outputs": [
    {
     "name": "stdout",
     "output_type": "stream",
     "text": [
      "Now Reducdancy: 10.0\n",
      "New Reducdancy: 3.0\n",
      "Now Reducdancy: 10.0\n",
      "New Reducdancy: 5.0\n",
      "Now Reducdancy: 10.0\n",
      "New Reducdancy: 10.0\n"
     ]
    }
   ],
   "source": [
    "write_data(name, raw_df_pl, r_range, gt)"
   ]
  },
  {
   "cell_type": "code",
   "execution_count": 10,
   "id": "10fe79f6",
   "metadata": {},
   "outputs": [],
   "source": [
    "def save_dataset_profile(name, r_range, n_classes, labels):\n",
    "    data = {}\n",
    "    data[\"dataset_name\"] = name\n",
    "    data[\"r_range\"] = r_range\n",
    "    data[\"n_classes\"] = n_classes\n",
    "    data[\"labels\"] = labels\n",
    "    json.dump(data, open(f\"../human_responses/{name}_dataset_profile.json\", \"w\"), indent=4)"
   ]
  },
  {
   "cell_type": "code",
   "execution_count": 11,
   "id": "db064dcd",
   "metadata": {},
   "outputs": [],
   "source": [
    "save_dataset_profile(name, r_range, n_classes, labels)"
   ]
  },
  {
   "cell_type": "markdown",
   "id": "ad5ab0f8",
   "metadata": {},
   "source": [
    "## face"
   ]
  },
  {
   "cell_type": "code",
   "execution_count": 12,
   "id": "c6f8e874",
   "metadata": {},
   "outputs": [],
   "source": [
    "raw_df_pl = pl.read_csv(f\"../../datasets/crowd_truth_infer/s4_Face Sentiment Identification/answer.csv\",\n",
    "                     separator=\",\",\n",
    "                     has_header=True,\n",
    "                     new_columns=[\"task\",\"worker\",\"label\"]\n",
    "                )\n",
    "gt = pl.read_csv(f\"../../datasets/crowd_truth_infer/s4_Face Sentiment Identification/truth.csv\",\n",
    "                new_columns=[\"task\",\"gt\"]\n",
    "        )\n",
    "n_classes = 4\n",
    "r_range = [3,5] # 基本が9で欠損あり？ Avg. 8.96\n",
    "labels = [0,1,2,3]\n",
    "name = \"face\""
   ]
  },
  {
   "cell_type": "code",
   "execution_count": 13,
   "id": "1f9e4dbd",
   "metadata": {},
   "outputs": [
    {
     "name": "stdout",
     "output_type": "stream",
     "text": [
      "Now Reducdancy: 8.976027397260275\n",
      "New Reducdancy: 3.0\n",
      "Now Reducdancy: 8.976027397260275\n",
      "New Reducdancy: 5.0\n"
     ]
    }
   ],
   "source": [
    "write_data(name, raw_df_pl, r_range, gt)"
   ]
  },
  {
   "cell_type": "code",
   "execution_count": 14,
   "id": "0afc0fed",
   "metadata": {},
   "outputs": [],
   "source": [
    "save_dataset_profile(name, r_range, n_classes, labels)"
   ]
  },
  {
   "cell_type": "markdown",
   "id": "113f88ed",
   "metadata": {},
   "source": [
    "## tiny"
   ]
  },
  {
   "cell_type": "code",
   "execution_count": 15,
   "id": "3c05014d",
   "metadata": {},
   "outputs": [],
   "source": [
    "raw_df_pl = pl.read_csv(f\"../../datasets/tiny_imagenet.csv\",\n",
    "                separator=\",\",\n",
    "                has_header=True,\n",
    "        )\n",
    "gt = raw_df_pl[[\"task\", \"gt\"]].unique()\n",
    "raw_df_pl = raw_df_pl[[\"task\", \"worker\", \"label\"]]\n",
    "n_classes = 5\n",
    "r_range = [2,]\n",
    "labels = [0,1,2,3,4]\n",
    "name = \"tiny\""
   ]
  },
  {
   "cell_type": "code",
   "execution_count": 16,
   "id": "836e5ab2",
   "metadata": {},
   "outputs": [
    {
     "name": "stdout",
     "output_type": "stream",
     "text": [
      "Now Reducdancy: 2.0\n",
      "New Reducdancy: 2.0\n"
     ]
    }
   ],
   "source": [
    "write_data(name, raw_df_pl, r_range, gt)"
   ]
  },
  {
   "cell_type": "code",
   "execution_count": 17,
   "id": "4eb30731",
   "metadata": {},
   "outputs": [],
   "source": [
    "save_dataset_profile(name, r_range, n_classes, labels)"
   ]
  }
 ],
 "metadata": {
  "kernelspec": {
   "display_name": "ds-bias-JN70MqDx-py3.11",
   "language": "python",
   "name": "python3"
  },
  "language_info": {
   "codemirror_mode": {
    "name": "ipython",
    "version": 3
   },
   "file_extension": ".py",
   "mimetype": "text/x-python",
   "name": "python",
   "nbconvert_exporter": "python",
   "pygments_lexer": "ipython3",
   "version": "3.11.3"
  }
 },
 "nbformat": 4,
 "nbformat_minor": 5
}
