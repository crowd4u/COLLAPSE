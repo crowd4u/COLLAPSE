{
 "cells": [
  {
   "cell_type": "markdown",
   "id": "a8bf615f",
   "metadata": {},
   "source": [
    "# 人間データの生成"
   ]
  },
  {
   "cell_type": "code",
   "execution_count": 30,
   "id": "bf067f6a",
   "metadata": {},
   "outputs": [
    {
     "name": "stdout",
     "output_type": "stream",
     "text": [
      "d:\\Source\\repos\\ds_bias\\neosim2\\preprocessing\n"
     ]
    }
   ],
   "source": [
    "!@cd"
   ]
  },
  {
   "cell_type": "code",
   "execution_count": 31,
   "id": "0c307cab",
   "metadata": {},
   "outputs": [],
   "source": [
    "import numpy as np\n",
    "import polars as pl\n",
    "import pandas as pd"
   ]
  },
  {
   "cell_type": "code",
   "execution_count": 32,
   "id": "4efdc8b6",
   "metadata": {},
   "outputs": [],
   "source": [
    "import sys\n",
    "sys.path.append(f\"../../neosim/exp\")"
   ]
  },
  {
   "cell_type": "code",
   "execution_count": 33,
   "id": "a2f9ff2f",
   "metadata": {},
   "outputs": [],
   "source": [
    "import json"
   ]
  },
  {
   "cell_type": "code",
   "execution_count": 34,
   "id": "4db306ac",
   "metadata": {},
   "outputs": [],
   "source": [
    "from dataset_preprocessing import change_r"
   ]
  },
  {
   "cell_type": "code",
   "execution_count": 35,
   "id": "a4596289",
   "metadata": {},
   "outputs": [],
   "source": [
    "np.random.seed(777)"
   ]
  },
  {
   "cell_type": "markdown",
   "id": "1aa65f57",
   "metadata": {},
   "source": [
    "### Tlk Agg Ftr2"
   ]
  },
  {
   "cell_type": "code",
   "execution_count": 36,
   "id": "ef8fdbe3",
   "metadata": {},
   "outputs": [],
   "source": [
    "df = pd.read_csv(\"../../datasets/crowd-kit-format/tlkaggftrs.csv\", dtype={\"task\" : str, \"worker\" :str ,\"label\" : str ,\"gt\" : str})\n",
    "gt = df.filter([\"task\",\"gt\"]).drop_duplicates(keep='last')\n",
    "df = df.drop([\"gt\"], axis=1)\n",
    "\n",
    "n_classes = 5\n",
    "r_range = [3,5]\n",
    "labels = [0,1,2,3,4]\n",
    "name = \"adult\""
   ]
  },
  {
   "cell_type": "code",
   "execution_count": 37,
   "id": "209b064c",
   "metadata": {},
   "outputs": [],
   "source": [
    "df[\"label\"] = (df[\"label\"].astype(int) - 1).astype(str)\n",
    "gt[\"gt\"] = (gt[\"gt\"].astype(int) - 1).astype(str)"
   ]
  },
  {
   "cell_type": "code",
   "execution_count": 38,
   "id": "1cd43cff",
   "metadata": {},
   "outputs": [],
   "source": [
    "df = pl.from_pandas(df)\n",
    "gt = pl.from_pandas(gt)"
   ]
  },
  {
   "cell_type": "code",
   "execution_count": 39,
   "id": "f1505709",
   "metadata": {},
   "outputs": [
    {
     "name": "stderr",
     "output_type": "stream",
     "text": [
      "C:\\Users\\tamut\\AppData\\Local\\Temp\\ipykernel_22324\\1498582118.py:1: DeprecationWarning: `GroupBy.count` is deprecated. It has been renamed to `len`.\n",
      "  tab = gt.group_by(\"gt\").count().select(\"gt\", (pl.col(\"count\") / gt.select(pl.count())).alias(\"ratio\")).sort(\"gt\")\n",
      "C:\\Users\\tamut\\AppData\\Local\\Temp\\ipykernel_22324\\1498582118.py:1: DeprecationWarning: `pl.count()` is deprecated. Please use `pl.len()` instead.\n",
      "  tab = gt.group_by(\"gt\").count().select(\"gt\", (pl.col(\"count\") / gt.select(pl.count())).alias(\"ratio\")).sort(\"gt\")\n"
     ]
    },
    {
     "data": {
      "text/html": [
       "<div><style>\n",
       ".dataframe > thead > tr,\n",
       ".dataframe > tbody > tr {\n",
       "  text-align: right;\n",
       "  white-space: pre-wrap;\n",
       "}\n",
       "</style>\n",
       "<small>shape: (5, 2)</small><table border=\"1\" class=\"dataframe\"><thead><tr><th>gt</th><th>ratio</th></tr><tr><td>str</td><td>f64</td></tr></thead><tbody><tr><td>&quot;0&quot;</td><td>0.061554</td></tr><tr><td>&quot;1&quot;</td><td>0.041372</td></tr><tr><td>&quot;2&quot;</td><td>0.551968</td></tr><tr><td>&quot;3&quot;</td><td>0.055499</td></tr><tr><td>&quot;4&quot;</td><td>0.289606</td></tr></tbody></table></div>"
      ],
      "text/plain": [
       "shape: (5, 2)\n",
       "┌─────┬──────────┐\n",
       "│ gt  ┆ ratio    │\n",
       "│ --- ┆ ---      │\n",
       "│ str ┆ f64      │\n",
       "╞═════╪══════════╡\n",
       "│ 0   ┆ 0.061554 │\n",
       "│ 1   ┆ 0.041372 │\n",
       "│ 2   ┆ 0.551968 │\n",
       "│ 3   ┆ 0.055499 │\n",
       "│ 4   ┆ 0.289606 │\n",
       "└─────┴──────────┘"
      ]
     },
     "execution_count": 39,
     "metadata": {},
     "output_type": "execute_result"
    }
   ],
   "source": [
    "tab = gt.group_by(\"gt\").count().select(\"gt\", (pl.col(\"count\") / gt.select(pl.count())).alias(\"ratio\")).sort(\"gt\")\n",
    "tab"
   ]
  },
  {
   "cell_type": "code",
   "execution_count": 40,
   "id": "76d051f4",
   "metadata": {},
   "outputs": [],
   "source": [
    "raw_df_pl = df"
   ]
  },
  {
   "cell_type": "code",
   "execution_count": 41,
   "id": "4851cb5e",
   "metadata": {},
   "outputs": [],
   "source": [
    "def write_data(name, raw_df_pl, r_range, gt):\n",
    "    for r in r_range:\n",
    "        df = change_r(raw_df_pl, r)\n",
    "        df.write_csv(f\"../human_responses/{name}_r={r}.csv\")\n",
    "    gt.write_csv(f\"../human_responses/{name}_gt.csv\")"
   ]
  },
  {
   "cell_type": "code",
   "execution_count": 42,
   "id": "040a3840",
   "metadata": {},
   "outputs": [
    {
     "name": "stdout",
     "output_type": "stream",
     "text": [
      "Now Reducdancy: 60.614530776992936\n",
      "New Reducdancy: 3.0\n",
      "Now Reducdancy: 60.614530776992936\n",
      "New Reducdancy: 5.0\n"
     ]
    }
   ],
   "source": [
    "write_data(name, raw_df_pl, r_range, gt)"
   ]
  },
  {
   "cell_type": "code",
   "execution_count": 43,
   "id": "8838ccc5",
   "metadata": {},
   "outputs": [],
   "source": [
    "## メモ 10はたりないみたい"
   ]
  },
  {
   "cell_type": "code",
   "execution_count": 44,
   "id": "10fe79f6",
   "metadata": {},
   "outputs": [],
   "source": [
    "def save_dataset_profile(name, r_range, n_classes, labels):\n",
    "    data = {}\n",
    "    data[\"dataset_name\"] = name\n",
    "    data[\"r_range\"] = r_range\n",
    "    data[\"n_classes\"] = n_classes\n",
    "    data[\"labels\"] = labels\n",
    "    json.dump(data, open(f\"../human_responses/{name}_dataset_profile.json\", \"w\"), indent=4)"
   ]
  },
  {
   "cell_type": "code",
   "execution_count": 45,
   "id": "db064dcd",
   "metadata": {},
   "outputs": [],
   "source": [
    "save_dataset_profile(name, r_range, n_classes, labels)"
   ]
  },
  {
   "cell_type": "code",
   "execution_count": null,
   "id": "15d65172",
   "metadata": {},
   "outputs": [],
   "source": []
  }
 ],
 "metadata": {
  "kernelspec": {
   "display_name": "ds-bias-KhdOBSXq-py3.10",
   "language": "python",
   "name": "python3"
  },
  "language_info": {
   "codemirror_mode": {
    "name": "ipython",
    "version": 3
   },
   "file_extension": ".py",
   "mimetype": "text/x-python",
   "name": "python",
   "nbconvert_exporter": "python",
   "pygments_lexer": "ipython3",
   "version": "3.10.10"
  }
 },
 "nbformat": 4,
 "nbformat_minor": 5
}
