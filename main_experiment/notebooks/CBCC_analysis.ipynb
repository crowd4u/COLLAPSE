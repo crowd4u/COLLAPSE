{
 "cells": [
  {
   "cell_type": "markdown",
   "id": "3c83f3ff",
   "metadata": {},
   "source": [
    "# Case Study of CBCC (Communities)"
   ]
  },
  {
   "cell_type": "code",
   "execution_count": null,
   "id": "410552b3",
   "metadata": {},
   "outputs": [],
   "source": [
    "import sys\n",
    "import os\n",
    "\n",
    "import polars as pl\n",
    "import pandas as pd\n",
    "import numpy as np"
   ]
  },
  {
   "cell_type": "code",
   "execution_count": null,
   "id": "c2cace6d-4fd2-48e9-ad9b-bc21e3373dba",
   "metadata": {},
   "outputs": [],
   "source": [
    "from matplotlib import pyplot as plt"
   ]
  },
  {
   "cell_type": "code",
   "execution_count": null,
   "id": "4f60785c",
   "metadata": {},
   "outputs": [],
   "source": [
    "sys.path.append(f\"../../methods\")\n",
    "sys.path.append(f\"../\")"
   ]
  },
  {
   "cell_type": "code",
   "execution_count": null,
   "id": "b9fabaf4-749c-4027-9bc8-e6118f64c991",
   "metadata": {},
   "outputs": [],
   "source": [
    "from cbcc_wrapper import CBCC"
   ]
  },
  {
   "cell_type": "code",
   "execution_count": null,
   "id": "3a5297d1",
   "metadata": {},
   "outputs": [],
   "source": [
    "from sklearn.metrics import accuracy_score, confusion_matrix"
   ]
  },
  {
   "cell_type": "code",
   "execution_count": null,
   "id": "a3cceda1",
   "metadata": {},
   "outputs": [],
   "source": [
    "from io_utils import get_accuracy, get_recall"
   ]
  },
  {
   "cell_type": "code",
   "execution_count": null,
   "id": "6d765dcc-8f7e-4df3-adbb-3ea39802bb33",
   "metadata": {},
   "outputs": [],
   "source": [
    "from scenario import create_ai_dataset"
   ]
  },
  {
   "cell_type": "markdown",
   "id": "0c1e6972",
   "metadata": {},
   "source": [
    "## Case 1\n",
    "face, homo, r=5, AI_acc=mean, num_ai=15, M=4"
   ]
  },
  {
   "cell_type": "code",
   "execution_count": null,
   "id": "f19e1c68",
   "metadata": {},
   "outputs": [],
   "source": [
    "gt = pd.read_csv(\"../human_responses/face_gt.csv\")\n",
    "biased_index = gt[gt[\"gt\"]==0][\"task\"].unique()\n",
    "gt = gt.set_index(\"task\")"
   ]
  },
  {
   "cell_type": "code",
   "execution_count": null,
   "id": "bf18fd78",
   "metadata": {},
   "outputs": [],
   "source": [
    "# make the data\n",
    "human = pd.read_csv(\"../human_responses/face_r=5.csv\")"
   ]
  },
  {
   "cell_type": "code",
   "execution_count": null,
   "id": "e7efa1a4",
   "metadata": {},
   "outputs": [],
   "source": [
    "for run in range(15):\n",
    "    tmp_df = pd.read_csv(f\"../ai_responses/face_r=5_ai=mean_target=1_run={run}.csv\")\n",
    "    if run == 0:\n",
    "        ai_df = tmp_df\n",
    "    else:\n",
    "        ai_df = pd.concat([ai_df, tmp_df], ignore_index=True)"
   ]
  },
  {
   "cell_type": "code",
   "execution_count": null,
   "id": "07f81043",
   "metadata": {},
   "outputs": [],
   "source": [
    "df = pd.concat([human, ai_df], ignore_index=True)"
   ]
  },
  {
   "cell_type": "code",
   "execution_count": null,
   "id": "24a57266",
   "metadata": {},
   "outputs": [],
   "source": [
    "cbcc = CBCC(labels=[0,1,2,3], C=4)"
   ]
  },
  {
   "cell_type": "code",
   "execution_count": null,
   "id": "229ac067",
   "metadata": {},
   "outputs": [],
   "source": [
    "ret = cbcc.fit_predict(df, seed=12347)"
   ]
  },
  {
   "cell_type": "code",
   "execution_count": null,
   "id": "622669ae",
   "metadata": {},
   "outputs": [],
   "source": [
    "acc = get_accuracy(ret, gt)\n",
    "acc"
   ]
  },
  {
   "cell_type": "code",
   "execution_count": null,
   "id": "73ec41be",
   "metadata": {},
   "outputs": [],
   "source": [
    "recall = get_recall(ret, gt, biased_index)\n",
    "recall"
   ]
  },
  {
   "cell_type": "code",
   "execution_count": null,
   "id": "8a9aa061",
   "metadata": {},
   "outputs": [],
   "source": [
    "workers = df[\"worker\"].unique().tolist()"
   ]
  },
  {
   "cell_type": "code",
   "execution_count": null,
   "id": "f6ed406a",
   "metadata": {},
   "outputs": [],
   "source": [
    "with open(\"../../methods\\CBCC\\Results\\communities.csv\", \"r\") as f:\n",
    "    communities_csv = f.read()"
   ]
  },
  {
   "cell_type": "code",
   "execution_count": null,
   "id": "eea2d2ac",
   "metadata": {},
   "outputs": [],
   "source": [
    "prob = {}\n",
    "worker_index = -1\n",
    "for line in communities_csv.split(\"\\n\")[:-2]:\n",
    "    if \" \" in line:\n",
    "        try:\n",
    "            values = list(map(float, line.split(\" \")[:-1]))\n",
    "            prob[worker_index] = np.array(values)\n",
    "        except ValueError as e :\n",
    "            pass\n",
    "    else:\n",
    "        worker_index = int(line)"
   ]
  },
  {
   "cell_type": "code",
   "execution_count": null,
   "id": "224f694c",
   "metadata": {},
   "outputs": [],
   "source": [
    "human_wokers = human[\"worker\"].unique().tolist()"
   ]
  },
  {
   "cell_type": "code",
   "execution_count": null,
   "id": "277abe3f",
   "metadata": {},
   "outputs": [],
   "source": [
    "cluster_human_count = np.zeros(4)\n",
    "cluster_AI_count = np.zeros(4)\n",
    "for i, w in enumerate(workers):\n",
    "    if w in human_wokers:\n",
    "        cluster_human_count[prob[i].argmax()] += 1\n",
    "    else:\n",
    "        cluster_AI_count[prob[i].argmax()] += 1"
   ]
  },
  {
   "cell_type": "code",
   "execution_count": null,
   "id": "a457e13f",
   "metadata": {},
   "outputs": [],
   "source": [
    "# Community Dist of Humans\n",
    "cluster_human_count"
   ]
  },
  {
   "cell_type": "code",
   "execution_count": null,
   "id": "4337ea70",
   "metadata": {},
   "outputs": [],
   "source": [
    "# Community Dist of AIs\n",
    "cluster_AI_count"
   ]
  },
  {
   "cell_type": "code",
   "execution_count": null,
   "id": "6d0257c5-172a-4aa9-a868-c0be130493e5",
   "metadata": {},
   "outputs": [],
   "source": [
    "# Visualization\n",
    "n = 4\n",
    "\n",
    "if len(cluster_human_count) != n or len(cluster_AI_count) != n:\n",
    "    raise ValueError(\"The length of the count arrays must be equal to n.\")\n",
    "\n",
    "clusters = [f'{i+1}' for i in range(n)]\n",
    "x = np.arange(n)\n",
    "width = 0.5\n",
    "fig, ax = plt.subplots(figsize=(4, 3))\n",
    "bar1 = ax.bar(x, cluster_human_count, width, label='Human Worker', color=\"darkgreen\")\n",
    "bar2 = ax.bar(x, cluster_AI_count, width, bottom=cluster_human_count, label='AI Worker', color=\"darkblue\")\n",
    "\n",
    "ax.set_xlabel('Communities')\n",
    "ax.set_ylabel('#Worker')\n",
    "ax.set_title('CBCC$_{M=4}$ Community Distribution \\n Face / Homo / $r = 5$ / $a_{AI}=\\mu$ / $K_h$=25 / $K_a$=15\\n' + f'accuracy={acc:.2f} / recall={recall:.2f}', fontsize=10)\n",
    "ax.set_xticks(x)\n",
    "ax.set_xticklabels(clusters)\n",
    "ax.set_ylim([0,30])\n",
    "ax.legend()\n",
    "for i in range(n):\n",
    "    total_height = cluster_human_count[i] + cluster_AI_count[i]\n",
    "    ax.text(i, total_height, str(int(total_height)), ha='center', va='bottom')\n",
    "plt.tight_layout()\n",
    "plt.savefig('cbcc_community_distribution_1.svg', bbox_inches='tight')"
   ]
  },
  {
   "cell_type": "markdown",
   "id": "870e62d8",
   "metadata": {},
   "source": [
    "## Case 2\n",
    "dog, hetero, r=5, AI_acc=mean, num_ai=30, M=8"
   ]
  },
  {
   "cell_type": "code",
   "execution_count": null,
   "id": "d5c2568a",
   "metadata": {},
   "outputs": [],
   "source": [
    "gt = pd.read_csv(\"../human_responses/dog_gt.csv\")\n",
    "biased_index = gt[gt[\"gt\"]==0][\"task\"].unique()\n",
    "gt = gt.astype(int).set_index(\"task\")"
   ]
  },
  {
   "cell_type": "code",
   "execution_count": null,
   "id": "08b9831f",
   "metadata": {},
   "outputs": [],
   "source": [
    "human = pd.read_csv(\"../human_responses/dog_r=5.csv\", dtype={\"task\":str})"
   ]
  },
  {
   "cell_type": "code",
   "execution_count": null,
   "id": "e1c0173b",
   "metadata": {},
   "outputs": [],
   "source": [
    "gen = create_ai_dataset(\"hetero\", \"dog\", r=5, ai_acc=\"mean\", n_classes=4)"
   ]
  },
  {
   "cell_type": "code",
   "execution_count": null,
   "id": "d06e56b6",
   "metadata": {},
   "outputs": [],
   "source": [
    "for ai_df, num_ai in gen:\n",
    "    if num_ai == 30:\n",
    "        break"
   ]
  },
  {
   "cell_type": "code",
   "execution_count": null,
   "id": "7e99cb72",
   "metadata": {},
   "outputs": [],
   "source": [
    "df = pd.concat([human, ai_df], ignore_index=True)"
   ]
  },
  {
   "cell_type": "code",
   "execution_count": null,
   "id": "349d11ed",
   "metadata": {},
   "outputs": [],
   "source": [
    "cbcc = CBCC(labels=[0,1,2,3], C=8)"
   ]
  },
  {
   "cell_type": "code",
   "execution_count": null,
   "id": "f131b501",
   "metadata": {},
   "outputs": [],
   "source": [
    "ret = cbcc.fit_predict(df, seed=12347)"
   ]
  },
  {
   "cell_type": "code",
   "execution_count": null,
   "id": "79fab57f",
   "metadata": {},
   "outputs": [],
   "source": [
    "ret.index = ret.index.astype(int)"
   ]
  },
  {
   "cell_type": "code",
   "execution_count": null,
   "id": "30d3b390",
   "metadata": {},
   "outputs": [],
   "source": [
    "acc = get_accuracy(ret, gt)\n",
    "acc"
   ]
  },
  {
   "cell_type": "code",
   "execution_count": null,
   "id": "afc13b7d",
   "metadata": {},
   "outputs": [],
   "source": [
    "recall = get_recall(ret, gt, biased_index.astype(int))\n",
    "recall"
   ]
  },
  {
   "cell_type": "code",
   "execution_count": null,
   "id": "919eed56",
   "metadata": {},
   "outputs": [],
   "source": [
    "workers = df[\"worker\"].unique().tolist()"
   ]
  },
  {
   "cell_type": "code",
   "execution_count": null,
   "id": "7e72431b",
   "metadata": {},
   "outputs": [],
   "source": [
    "with open(\"../../methods\\CBCC\\Results\\communities.csv\", \"r\") as f:\n",
    "    communities_csv = f.read()"
   ]
  },
  {
   "cell_type": "code",
   "execution_count": null,
   "id": "ec3e6b6b",
   "metadata": {},
   "outputs": [],
   "source": [
    "prob = {}\n",
    "worker_index = -1\n",
    "for line in communities_csv.split(\"\\n\")[:-2]:\n",
    "    if \" \" in line:\n",
    "        try:\n",
    "            values = list(map(float, line.split(\" \")[:-1]))\n",
    "            prob[worker_index] = np.array(values)\n",
    "        except ValueError as e :\n",
    "            pass\n",
    "    else:\n",
    "        worker_index = int(line)"
   ]
  },
  {
   "cell_type": "code",
   "execution_count": null,
   "id": "778a3894",
   "metadata": {},
   "outputs": [],
   "source": [
    "human_wokers = human[\"worker\"].unique().tolist()"
   ]
  },
  {
   "cell_type": "code",
   "execution_count": null,
   "id": "5e8b1499",
   "metadata": {},
   "outputs": [],
   "source": [
    "cluster_human_count = np.zeros(8)\n",
    "cluster_AI_count = np.zeros(8)\n",
    "for i, w in enumerate(workers):\n",
    "    if w in human_wokers:\n",
    "        cluster_human_count[prob[i].argmax()] += 1\n",
    "    else:\n",
    "        cluster_AI_count[prob[i].argmax()] += 1"
   ]
  },
  {
   "cell_type": "code",
   "execution_count": null,
   "id": "5b0f843e",
   "metadata": {},
   "outputs": [],
   "source": [
    "# Community Dist of Humans\n",
    "cluster_human_count"
   ]
  },
  {
   "cell_type": "code",
   "execution_count": null,
   "id": "c8317793",
   "metadata": {},
   "outputs": [],
   "source": [
    "# Community Dist of AIs\n",
    "cluster_AI_count"
   ]
  },
  {
   "cell_type": "code",
   "execution_count": null,
   "id": "6e28ea31",
   "metadata": {},
   "outputs": [],
   "source": [
    "# Visualization\n",
    "n = 8\n",
    "\n",
    "if len(cluster_human_count) != n or len(cluster_AI_count) != n:\n",
    "    raise ValueError(\"The length of the count arrays must be equal to n.\")\n",
    "clusters = [f'{i+1}' for i in range(n)]\n",
    "x = np.arange(n)\n",
    "width = 0.5\n",
    "fig, ax = plt.subplots(figsize=(4, 3))\n",
    "bar1 = ax.bar(x, cluster_human_count, width, label='Human Worker', color=\"darkgreen\")\n",
    "bar2 = ax.bar(x, cluster_AI_count, width, bottom=cluster_human_count, label='AI Worker', color=\"darkblue\")\n",
    "ax.set_xlabel('Communities')\n",
    "ax.set_ylabel('#Worker')\n",
    "ax.set_title('CBCC$_{M=8}$ Community Distribution \\n Dog / Hetero / $r = 5$ / $a_{AI}=\\mu$ / $K_h$=99 / $K_a$=30\\n' +  f'accuracy={acc:.2f} / recall={recall:.2f}', fontsize=10)\n",
    "ax.set_xticks(x)\n",
    "ax.set_xticklabels(clusters)\n",
    "ax.set_ylim([0,100])\n",
    "ax.legend()\n",
    "for i in range(n):\n",
    "    total_height = cluster_human_count[i] + cluster_AI_count[i]\n",
    "    ax.text(i, total_height, str(int(total_height)), ha='center', va='bottom')\n",
    "plt.tight_layout()\n",
    "\n",
    "plt.savefig('cbcc_community_distribution_2.svg', bbox_inches='tight')"
   ]
  }
 ],
 "metadata": {
  "kernelspec": {
   "display_name": "Python 3 (ipykernel)",
   "language": "python",
   "name": "python3"
  },
  "language_info": {
   "codemirror_mode": {
    "name": "ipython",
    "version": 3
   },
   "file_extension": ".py",
   "mimetype": "text/x-python",
   "name": "python",
   "nbconvert_exporter": "python",
   "pygments_lexer": "ipython3",
   "version": "3.10.10"
  }
 },
 "nbformat": 4,
 "nbformat_minor": 5
}
