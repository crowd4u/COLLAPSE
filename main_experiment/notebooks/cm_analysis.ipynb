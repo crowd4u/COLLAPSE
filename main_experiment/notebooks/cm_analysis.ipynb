{
 "cells": [
  {
   "cell_type": "markdown",
   "id": "3c83f3ff",
   "metadata": {},
   "source": [
    "# Case Study of Confusion Matrices"
   ]
  },
  {
   "cell_type": "code",
   "execution_count": null,
   "id": "410552b3",
   "metadata": {},
   "outputs": [],
   "source": [
    "import sys\n",
    "import os\n",
    "\n",
    "import polars as pl\n",
    "import pandas as pd\n",
    "import numpy as np"
   ]
  },
  {
   "cell_type": "code",
   "execution_count": null,
   "id": "4f60785c",
   "metadata": {},
   "outputs": [],
   "source": [
    "sys.path.append(f\"../../methods\")\n",
    "sys.path.append(f\"../\")"
   ]
  },
  {
   "cell_type": "code",
   "execution_count": null,
   "id": "30014a41",
   "metadata": {},
   "outputs": [],
   "source": [
    "from hsds_em import HSDS_EM\n",
    "from crowdkit.aggregation import DawidSkene, OneCoinDawidSkene"
   ]
  },
  {
   "cell_type": "code",
   "execution_count": null,
   "id": "b9fabaf4-749c-4027-9bc8-e6118f64c991",
   "metadata": {},
   "outputs": [],
   "source": [
    "from hsds_stan import HSDS_Stan, SeparatedBDS"
   ]
  },
  {
   "cell_type": "code",
   "execution_count": null,
   "id": "3a5297d1",
   "metadata": {},
   "outputs": [],
   "source": [
    "from sklearn.metrics import accuracy_score, confusion_matrix"
   ]
  },
  {
   "cell_type": "code",
   "execution_count": null,
   "id": "737d9673-b76a-47d0-ba5e-16a5430761bf",
   "metadata": {},
   "outputs": [],
   "source": [
    "from io_utils import get_accuracy, get_recall"
   ]
  },
  {
   "cell_type": "markdown",
   "id": "0c1e6972",
   "metadata": {},
   "source": [
    "## Setup the specific condition\n",
    "face, homo, r=5, AI_acc=mean, num_ai=15"
   ]
  },
  {
   "cell_type": "code",
   "execution_count": null,
   "id": "f19e1c68",
   "metadata": {},
   "outputs": [],
   "source": [
    "gt = pd.read_csv(\"../human_responses/face_gt.csv\")\n",
    "biased_index = gt[gt[\"gt\"]==0][\"task\"].unique()\n",
    "gt = gt.set_index(\"task\")"
   ]
  },
  {
   "cell_type": "code",
   "execution_count": null,
   "id": "bf18fd78",
   "metadata": {},
   "outputs": [],
   "source": [
    "human = pd.read_csv(\"../human_responses/face_r=5.csv\")"
   ]
  },
  {
   "cell_type": "code",
   "execution_count": null,
   "id": "e7efa1a4",
   "metadata": {},
   "outputs": [],
   "source": [
    "for run in range(15):\n",
    "    tmp_df = pd.read_csv(f\"../ai_responses/face_r=5_ai=mean_target=1_run={run}.csv\")\n",
    "    if run == 0:\n",
    "        ai_df = tmp_df\n",
    "    else:\n",
    "        ai_df = pd.concat([ai_df, tmp_df], ignore_index=True)"
   ]
  },
  {
   "cell_type": "code",
   "execution_count": null,
   "id": "07f81043",
   "metadata": {},
   "outputs": [],
   "source": [
    "df = pd.concat([human, ai_df], ignore_index=True)"
   ]
  },
  {
   "cell_type": "markdown",
   "id": "a6d7ccb8-b7d2-4a7d-8537-6ff5f92e6c7c",
   "metadata": {},
   "source": [
    "## Utils"
   ]
  },
  {
   "cell_type": "code",
   "execution_count": null,
   "id": "c77dce7d-9d50-4660-b5cc-2fc497eb7949",
   "metadata": {},
   "outputs": [],
   "source": [
    "def ds_errors_to_numpy_dict(errors_df):\n",
    "    workers = errors_df.index.get_level_values(0).unique()\n",
    "    labels = errors_df.columns\n",
    "    label_values = errors_df.index.get_level_values(1).unique()\n",
    "    result = {}\n",
    "    for worker in workers:\n",
    "        sub_df = errors_df.loc[worker]\n",
    "        sub_df = sub_df.reindex(label_values).sort_index()\n",
    "        result[worker] = sub_df.values.T\n",
    "    return result"
   ]
  },
  {
   "cell_type": "code",
   "execution_count": null,
   "id": "00370faf-804b-4839-bf2b-0315288bfd60",
   "metadata": {},
   "outputs": [],
   "source": [
    "def calc_avg_mat(mats):\n",
    "    ai_mat = np.zeros((4,4))\n",
    "    ai_cnt = 0\n",
    "    human_mat = np.zeros((4,4))\n",
    "    human_cnt = 0\n",
    "    for key, mat in mats.items():\n",
    "        mat = np.nan_to_num(mat)\n",
    "        if key[:3] == \"AI_\":\n",
    "            ai_mat += mat\n",
    "            ai_cnt += 1\n",
    "        else:\n",
    "            human_mat += mat\n",
    "            human_cnt += 1\n",
    "    ai_mat /= ai_cnt\n",
    "    human_mat /= human_cnt\n",
    "    return human_mat, ai_mat"
   ]
  },
  {
   "cell_type": "markdown",
   "id": "30b0d7e2-c2e1-4748-81e4-8d0e2a586470",
   "metadata": {},
   "source": [
    "## Algorithms"
   ]
  },
  {
   "cell_type": "markdown",
   "id": "e009b7d5",
   "metadata": {},
   "source": [
    "### DS"
   ]
  },
  {
   "cell_type": "code",
   "execution_count": null,
   "id": "443fcc80",
   "metadata": {},
   "outputs": [],
   "source": [
    "ds = DawidSkene()\n",
    "ret = ds.fit_predict(df)"
   ]
  },
  {
   "cell_type": "code",
   "execution_count": null,
   "id": "61802083",
   "metadata": {},
   "outputs": [],
   "source": [
    "get_accuracy(ret, gt)"
   ]
  },
  {
   "cell_type": "code",
   "execution_count": null,
   "id": "ae7039d5",
   "metadata": {},
   "outputs": [],
   "source": [
    "get_recall(ret, gt, biased_index)"
   ]
  },
  {
   "cell_type": "code",
   "execution_count": null,
   "id": "3b1e0da6",
   "metadata": {},
   "outputs": [],
   "source": [
    "ds_mats = ds_errors_to_numpy_dict(ds.errors_)"
   ]
  },
  {
   "cell_type": "code",
   "execution_count": null,
   "id": "68386ef0",
   "metadata": {},
   "outputs": [],
   "source": [
    "# Print Averaged Human CM and AI CM\n",
    "ds_h_cm, ds_a_cm = calc_avg_mat(ds_mats)\n",
    "ds_h_cm, ds_a_cm"
   ]
  },
  {
   "cell_type": "markdown",
   "id": "f214329b",
   "metadata": {},
   "source": [
    "### HSDS-EM"
   ]
  },
  {
   "cell_type": "code",
   "execution_count": null,
   "id": "020b3d3d",
   "metadata": {},
   "outputs": [],
   "source": [
    "hds = HSDS_EM()\n",
    "ret = hds.fit_predict(human,ai_df)"
   ]
  },
  {
   "cell_type": "code",
   "execution_count": null,
   "id": "e4329375",
   "metadata": {},
   "outputs": [],
   "source": [
    "get_accuracy(ret, gt)"
   ]
  },
  {
   "cell_type": "code",
   "execution_count": null,
   "id": "bb967dab",
   "metadata": {},
   "outputs": [],
   "source": [
    "get_recall(ret, gt, biased_index)"
   ]
  },
  {
   "cell_type": "code",
   "execution_count": null,
   "id": "1fa6535b",
   "metadata": {},
   "outputs": [],
   "source": [
    "hds_mats = ds_errors_to_numpy_dict(hds.step2_ds.errors_)"
   ]
  },
  {
   "cell_type": "code",
   "execution_count": null,
   "id": "23d1a85f",
   "metadata": {},
   "outputs": [],
   "source": [
    "# Print Averaged Human CM and AI CM\n",
    "hds_h_cm, hds_a_cm = calc_avg_mat(hds_mats)\n",
    "hds_h_cm, hds_a_cm"
   ]
  },
  {
   "cell_type": "markdown",
   "id": "202cb0cc",
   "metadata": {},
   "source": [
    "### OneCoin"
   ]
  },
  {
   "cell_type": "code",
   "execution_count": null,
   "id": "1477496e",
   "metadata": {},
   "outputs": [],
   "source": [
    "ocds = OneCoinDawidSkene()\n",
    "ret = ocds.fit_predict(df)"
   ]
  },
  {
   "cell_type": "code",
   "execution_count": null,
   "id": "74306160",
   "metadata": {},
   "outputs": [],
   "source": [
    "get_accuracy(ret, gt)"
   ]
  },
  {
   "cell_type": "code",
   "execution_count": null,
   "id": "fc17273e",
   "metadata": {},
   "outputs": [],
   "source": [
    "get_recall(ret, gt, biased_index)"
   ]
  },
  {
   "cell_type": "code",
   "execution_count": null,
   "id": "c5a40e95",
   "metadata": {},
   "outputs": [],
   "source": [
    "ocmats = ds_errors_to_numpy_dict(ocds.errors_)"
   ]
  },
  {
   "cell_type": "code",
   "execution_count": null,
   "id": "168263de",
   "metadata": {},
   "outputs": [],
   "source": [
    "# Print Averaged Human CM and AI CM\n",
    "ocd_h_cm, ocd_a_cm = calc_avg_mat(ocmats)\n",
    "ocd_h_cm, ocd_a_cm"
   ]
  },
  {
   "cell_type": "markdown",
   "id": "d14ecc01-8f85-4ce9-b354-7c977dba8f12",
   "metadata": {},
   "source": [
    "### BDS"
   ]
  },
  {
   "cell_type": "code",
   "execution_count": null,
   "id": "c66b0beb-54ef-4dc9-964a-a32a9a829d6b",
   "metadata": {},
   "outputs": [],
   "source": [
    "infer_params = {\n",
    "        \"iter_warmup\": 1500,\n",
    "        \"iter_sampling\": 3000,\n",
    "    }"
   ]
  },
  {
   "cell_type": "code",
   "execution_count": null,
   "id": "9c0a8cc9",
   "metadata": {},
   "outputs": [],
   "source": [
    "bds = SeparatedBDS(labels=[0,1,2,3], algorithm=\"mcmc\", infer_params=infer_params, init_worker_accuracy=0.75)"
   ]
  },
  {
   "cell_type": "code",
   "execution_count": null,
   "id": "9389be63",
   "metadata": {},
   "outputs": [],
   "source": [
    "bds_ret = bds.fit_predict(human, ai_df)"
   ]
  },
  {
   "cell_type": "code",
   "execution_count": null,
   "id": "75840bf7-b38b-42c8-a5f8-b5fb885f53a0",
   "metadata": {},
   "outputs": [],
   "source": [
    "get_accuracy(bds_ret, gt)"
   ]
  },
  {
   "cell_type": "code",
   "execution_count": null,
   "id": "971cee0f-4cec-4ab4-b4ca-f97a82cc793d",
   "metadata": {},
   "outputs": [],
   "source": [
    "get_recall(bds_ret, gt,biased_index)"
   ]
  },
  {
   "cell_type": "code",
   "execution_count": null,
   "id": "1aca56b4",
   "metadata": {},
   "outputs": [],
   "source": [
    "bds_pih = bds.step2_fit.stan_variable(\"pih\")"
   ]
  },
  {
   "cell_type": "code",
   "execution_count": null,
   "id": "0ce9de6a",
   "metadata": {},
   "outputs": [],
   "source": [
    "bds_pih = bds_pih.mean(axis=0)"
   ]
  },
  {
   "cell_type": "code",
   "execution_count": null,
   "id": "fe4714be",
   "metadata": {},
   "outputs": [],
   "source": [
    "bds_h_cm = bds_pih.mean(axis=0)"
   ]
  },
  {
   "cell_type": "code",
   "execution_count": null,
   "id": "cf2d0e7b",
   "metadata": {},
   "outputs": [],
   "source": [
    "# Print Averaged Human CM\n",
    "bds_h_cm"
   ]
  },
  {
   "cell_type": "code",
   "execution_count": null,
   "id": "3d273399-dbe4-4f34-962c-023619ec428b",
   "metadata": {},
   "outputs": [],
   "source": [
    "bds_pia = bds.step2_fit.stan_variable(\"pia\")"
   ]
  },
  {
   "cell_type": "code",
   "execution_count": null,
   "id": "3cfd9010-9977-4eb0-b645-c06845efa4c2",
   "metadata": {},
   "outputs": [],
   "source": [
    "bds_pia = bds_pia.mean(axis=0)"
   ]
  },
  {
   "cell_type": "code",
   "execution_count": null,
   "id": "1f4b67b2-21ad-4317-9b22-e8d4c155a860",
   "metadata": {},
   "outputs": [],
   "source": [
    "bds_a_cm = bds_pia.mean(axis=0)"
   ]
  },
  {
   "cell_type": "code",
   "execution_count": null,
   "id": "292c64dd-a0ed-48ae-aab8-7fd565eca25d",
   "metadata": {},
   "outputs": [],
   "source": [
    "# Print Averaged AI CM\n",
    "bds_a_cm"
   ]
  },
  {
   "cell_type": "markdown",
   "id": "88547f9d-339f-4b71-b7ff-91072211ec59",
   "metadata": {},
   "source": [
    "## HS-DS MCMC"
   ]
  },
  {
   "cell_type": "code",
   "execution_count": null,
   "id": "d8b09df3-f95a-4785-8517-85b33d539a04",
   "metadata": {},
   "outputs": [],
   "source": [
    "infer_params = {\n",
    "        \"iter_warmup\": 1500//2,\n",
    "        \"iter_sampling\": 3000//2,\n",
    "    }"
   ]
  },
  {
   "cell_type": "code",
   "execution_count": null,
   "id": "8d6a9466-d27d-41dd-83e4-f203f0337e0f",
   "metadata": {},
   "outputs": [],
   "source": [
    "hsbds = HSDS_Stan(labels=[0,1,2,3], algorithm=\"mcmc\", infer_params=infer_params, init_worker_accuracy=0.75)"
   ]
  },
  {
   "cell_type": "code",
   "execution_count": null,
   "id": "78fe8a12-9a03-4750-b4b2-46fa7ed2d905",
   "metadata": {},
   "outputs": [],
   "source": [
    "ret = hsbds.fit_predict(human, ai_df)"
   ]
  },
  {
   "cell_type": "code",
   "execution_count": null,
   "id": "3294f239-f8c7-4c53-9eec-ddfa994f1f88",
   "metadata": {},
   "outputs": [],
   "source": [
    "get_accuracy(ret, gt)"
   ]
  },
  {
   "cell_type": "code",
   "execution_count": null,
   "id": "4fc0c652-8aec-4805-a334-7d2daf6699f3",
   "metadata": {},
   "outputs": [],
   "source": [
    "get_recall(ret, gt, biased_index)"
   ]
  },
  {
   "cell_type": "code",
   "execution_count": null,
   "id": "be091ea6-71f2-48b1-8323-ca1c152f224e",
   "metadata": {},
   "outputs": [],
   "source": [
    "hsbds_pih = hsbds.step2_fit.stan_variable(\"pih\")"
   ]
  },
  {
   "cell_type": "code",
   "execution_count": null,
   "id": "a003a8dc-7065-48de-b2c3-2b75bd9467b7",
   "metadata": {},
   "outputs": [],
   "source": [
    "hsbds_pih = hsbds_pih.mean(axis=0)"
   ]
  },
  {
   "cell_type": "code",
   "execution_count": null,
   "id": "b8f39c38-b5ef-413f-b4c3-31db3393cf79",
   "metadata": {},
   "outputs": [],
   "source": [
    "hsbds_h_cm = hsbds_pih.mean(axis=0)"
   ]
  },
  {
   "cell_type": "code",
   "execution_count": null,
   "id": "638a4e23-9482-4f21-a1de-e9fbb7846e29",
   "metadata": {},
   "outputs": [],
   "source": [
    "# Print Averaged Human CM\n",
    "hsbds_h_cm"
   ]
  },
  {
   "cell_type": "code",
   "execution_count": null,
   "id": "735bf4b1-2388-4178-b2ba-72ec0756f8f3",
   "metadata": {},
   "outputs": [],
   "source": [
    "hsbds_pia = hsbds.step2_fit.stan_variable(\"pia\")"
   ]
  },
  {
   "cell_type": "code",
   "execution_count": null,
   "id": "07e5c8d0-3fbf-419e-a557-ba8b92d1dcbf",
   "metadata": {},
   "outputs": [],
   "source": [
    "hsbds_pia = hsbds_pia.mean(axis=0)"
   ]
  },
  {
   "cell_type": "code",
   "execution_count": null,
   "id": "29e7e590-23a0-420a-a553-6d0423f2c62f",
   "metadata": {},
   "outputs": [],
   "source": [
    "hsbds_a_cm = hsbds_pia.mean(axis=0)"
   ]
  },
  {
   "cell_type": "code",
   "execution_count": null,
   "id": "06e3fac5-fc7d-4c2f-af6d-d258eba4d5c8",
   "metadata": {},
   "outputs": [],
   "source": [
    "# Print Averaged AI CM\n",
    "hsbds_a_cm"
   ]
  },
  {
   "cell_type": "code",
   "execution_count": null,
   "id": "a4bb0720-fa75-4afc-92c0-67462520251d",
   "metadata": {},
   "outputs": [],
   "source": [
    "# clean up\n",
    "!rm -r ./outputs"
   ]
  },
  {
   "cell_type": "markdown",
   "id": "946031d8-6b79-49f5-a38c-e68a95d44a9b",
   "metadata": {},
   "source": [
    "## Visualization"
   ]
  },
  {
   "cell_type": "code",
   "execution_count": null,
   "id": "33ad5c5a-f041-454c-9579-6183054b9fc5",
   "metadata": {},
   "outputs": [],
   "source": [
    "from matplotlib import pyplot as plt"
   ]
  },
  {
   "cell_type": "code",
   "execution_count": null,
   "id": "8e5b125f-6ca6-4a8b-a8bf-781a5d33a1c9",
   "metadata": {},
   "outputs": [],
   "source": [
    "fig, axes = plt.subplots(5, 2, figsize=(10, 8))\n",
    "cmaps = [\"YlGnBu\" for i in range(10)]\n",
    "titles = ['HSDS_EM Human', 'HSDS_EM AI', 'DS Human', 'DS AI', \n",
    "          'OneCoin Human', 'OneCoin AI', \"BDS HUman\", \"BDS AI\", \"HSDS_MCMC Human\", \"HSDS_MCMC AI\"]\n",
    "cms = [hds_h_cm, hds_a_cm, ds_h_cm, ds_a_cm, ocd_h_cm, ocd_a_cm, bds_h_cm, bds_a_cm, hsbds_h_cm, hsbds_a_cm]\n",
    "\n",
    "for ax, cm, cmap, title in zip(axes.flat, cms, cmaps, titles):\n",
    "    im = ax.imshow(cm, cmap=cmap, vmin=0, vmax=1)\n",
    "    ax.set_title(title)\n",
    "    ax.set_xlabel('Predicted Label')\n",
    "    ax.set_ylabel('True Label')\n",
    "    ax.set_yticks([0,1,2,3])\n",
    "    ax.set_yticklabels([1,2,3,4])\n",
    "    ax.set_xticks([0,1,2,3])\n",
    "    ax.set_xticklabels([1,2,3,4])\n",
    "    fig.colorbar(im, ax=ax, orientation='vertical')\n",
    "\n",
    "plt.tight_layout()\n",
    "plt.savefig(\"cm.svg\", bbox_inches=\"tight\")\n",
    "plt.show()"
   ]
  }
 ],
 "metadata": {
  "kernelspec": {
   "display_name": "Python 3 (ipykernel)",
   "language": "python",
   "name": "python3"
  },
  "language_info": {
   "codemirror_mode": {
    "name": "ipython",
    "version": 3
   },
   "file_extension": ".py",
   "mimetype": "text/x-python",
   "name": "python",
   "nbconvert_exporter": "python",
   "pygments_lexer": "ipython3",
   "version": "3.10.19"
  }
 },
 "nbformat": 4,
 "nbformat_minor": 5
}
