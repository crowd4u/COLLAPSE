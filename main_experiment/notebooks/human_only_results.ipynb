{
 "cells": [
  {
   "cell_type": "markdown",
   "id": "ae5501b5",
   "metadata": {},
   "source": [
    "## Calculate Human-only Results"
   ]
  },
  {
   "cell_type": "code",
   "execution_count": 1,
   "id": "ead9d277",
   "metadata": {},
   "outputs": [],
   "source": [
    "import sys, os\n",
    "import pandas as pd\n",
    "import polars as pl"
   ]
  },
  {
   "cell_type": "code",
   "execution_count": 2,
   "id": "6e9ce5f2",
   "metadata": {},
   "outputs": [],
   "source": [
    "sys.path.append(f\"../\")"
   ]
  },
  {
   "cell_type": "code",
   "execution_count": 3,
   "id": "e93f03a8-8e28-48dc-bda5-18cc824ba52c",
   "metadata": {},
   "outputs": [],
   "source": [
    "sys.path.append(f\"../../methods\")"
   ]
  },
  {
   "cell_type": "code",
   "execution_count": 4,
   "id": "93a2ffbd-d8de-4a6d-85eb-b2941bdb2b8f",
   "metadata": {},
   "outputs": [],
   "source": [
    "from crowdkit.aggregation import DawidSkene, GLAD, OneCoinDawidSkene"
   ]
  },
  {
   "cell_type": "code",
   "execution_count": 5,
   "id": "91e008ca-178c-455b-abb1-bcda2407a48f",
   "metadata": {},
   "outputs": [],
   "source": [
    "from bds_stan_wrapper import BDS"
   ]
  },
  {
   "cell_type": "code",
   "execution_count": 6,
   "id": "c91a76f7",
   "metadata": {},
   "outputs": [],
   "source": [
    "from agg_methods import AggregationMethod"
   ]
  },
  {
   "cell_type": "code",
   "execution_count": 9,
   "id": "5ab261b3",
   "metadata": {},
   "outputs": [],
   "source": [
    "from io_utils import get_accuracy, get_recall, load_dataset_profile, load_gt, load_human_responses"
   ]
  },
  {
   "cell_type": "code",
   "execution_count": null,
   "id": "c0dfbb1e-5a5f-4987-8d6a-c8cc88dd3f8f",
   "metadata": {},
   "outputs": [],
   "source": [
    "!pwd"
   ]
  },
  {
   "cell_type": "code",
   "execution_count": 11,
   "id": "a29199eb-4d3a-4cc5-901a-6d0ff37a0263",
   "metadata": {},
   "outputs": [],
   "source": [
    "!mkdir ../results_human"
   ]
  },
  {
   "cell_type": "code",
   "execution_count": 12,
   "id": "b21240d7",
   "metadata": {},
   "outputs": [],
   "source": [
    "def get_save_file_path(dataset_profile, r):\n",
    "    dataset_name = dataset_profile[\"dataset_name\"]\n",
    "    n_classes = dataset_profile[\"n_classes\"]\n",
    "\n",
    "    file_name = f\"../results_human/{dataset_name}_{r}.csv\"\n",
    "    if os.path.exists(file_name):\n",
    "        assert False, \"File already exists\"\n",
    "    with open(file_name, \"w\") as f:\n",
    "        f.write(\"dataset,scenario,method,ai_acc,r,num_ai,iter,convergence,accuracy,recall,uc_p,\")\n",
    "        for i in range(n_classes):\n",
    "            f.write(f\"uc_pih_{i},\")\n",
    "        for i in range(n_classes-1):\n",
    "            f.write(f\"uc_pia_{i},\")\n",
    "        f.write(f\"uc_pia_{i+1}\")\n",
    "        f.write(\"\\n\")\n",
    "    return file_name"
   ]
  },
  {
   "cell_type": "code",
   "execution_count": 13,
   "id": "5665c8de",
   "metadata": {},
   "outputs": [],
   "source": [
    "DATSETS = [\"dog\", \"face\", \"tiny\", \"adult\"]"
   ]
  },
  {
   "cell_type": "code",
   "execution_count": 14,
   "id": "cf5c6995-4e62-4ae4-baad-c3c3e3dd9e3c",
   "metadata": {},
   "outputs": [],
   "source": [
    "def get_BDS_instance(labels, iter_warmup, iter_sampling, r):\n",
    "    infer_params = {\n",
    "        \"iter_warmup\": iter_warmup,\n",
    "        \"iter_sampling\": iter_sampling,\n",
    "    }\n",
    "    return BDS(\n",
    "        labels=labels,\n",
    "        algorithm=\"mcmc\",\n",
    "        init_worker_accuracy=r,\n",
    "        infer_params=infer_params,\n",
    "    )"
   ]
  },
  {
   "cell_type": "code",
   "execution_count": 15,
   "id": "08ce9707-1e25-4c4d-b557-5456d818fc52",
   "metadata": {},
   "outputs": [],
   "source": [
    "def get_aggregation_methods(labels, r=0.75, n_iter=100000):\n",
    "    return [\n",
    "        AggregationMethod(\"EMDS\", False, True, DawidSkene(n_iter=n_iter)),\n",
    "        AggregationMethod(\"GLAD\", False, True, GLAD(n_iter=n_iter)),\n",
    "        AggregationMethod(\"OneCoinDS\", False, True, OneCoinDawidSkene(n_iter=n_iter)),\n",
    "        AggregationMethod(\"BDS(iter_sampling=1000)\", False, True,\n",
    "                          get_BDS_instance(labels, iter_warmup=500, iter_sampling=1000, r=r)),\n",
    "        AggregationMethod(\"BDS(iter_sampling=2000)\", False, True,\n",
    "                          get_BDS_instance(labels, iter_warmup=1000, iter_sampling=2000, r=r)),\n",
    "        AggregationMethod(\"BDS(iter_sampling=3000)\", False, True,\n",
    "                          get_BDS_instance(labels, iter_warmup=1500, iter_sampling=3000, r=r)),\n",
    "    ]"
   ]
  },
  {
   "cell_type": "code",
   "execution_count": null,
   "id": "8b419416",
   "metadata": {},
   "outputs": [],
   "source": [
    "for dataset in DATSETS:\n",
    "    print(f\"Dataset: {dataset}\")\n",
    "    dataset_profile = load_dataset_profile(dataset)\n",
    "    gt, biased_tasks = load_gt(dataset)\n",
    "\n",
    "    methods = get_aggregation_methods(dataset_profile[\"labels\"])\n",
    "    for r in dataset_profile[\"r_range\"]:\n",
    "        file_name = get_save_file_path(dataset_profile, r)\n",
    "        human_responses = load_human_responses(dataset, r)\n",
    "        ai_responses = human_responses.iloc[0:0].copy()\n",
    "        print(f\"File will be saved to: {file_name}\")\n",
    "        for iter in range(5):\n",
    "            for method in methods:\n",
    "                print(f\"Method: {method.name}\")\n",
    "                ret = method.fit_predict(human_responses, ai_responses)\n",
    "                acc = get_accuracy(gt, ret)\n",
    "                biased_acc = get_recall(gt, ret, biased_tasks)\n",
    "                print(f\"Accuracy: {acc}, Recall: {biased_acc}\")\n",
    "                uc_text = method.get_uc_text(dataset_profile[\"n_classes\"])\n",
    "                with open(file_name, \"a\") as f:\n",
    "                    f.write(f\"{dataset},*,{method.name},*,{r},0,{iter},-1,{acc},{biased_acc},{uc_text}\\n\")"
   ]
  },
  {
   "cell_type": "code",
   "execution_count": null,
   "id": "f82fb9bc-25b6-462f-872a-35cceefc215a",
   "metadata": {},
   "outputs": [],
   "source": []
  }
 ],
 "metadata": {
  "kernelspec": {
   "display_name": "Python 3 (ipykernel)",
   "language": "python",
   "name": "python3"
  },
  "language_info": {
   "codemirror_mode": {
    "name": "ipython",
    "version": 3
   },
   "file_extension": ".py",
   "mimetype": "text/x-python",
   "name": "python",
   "nbconvert_exporter": "python",
   "pygments_lexer": "ipython3",
   "version": "3.10.10"
  }
 },
 "nbformat": 4,
 "nbformat_minor": 5
}
