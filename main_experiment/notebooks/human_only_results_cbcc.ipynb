{
 "cells": [
  {
   "cell_type": "markdown",
   "id": "ae5501b5",
   "metadata": {},
   "source": [
    "## Calculate Human-only Results (CBCC)"
   ]
  },
  {
   "cell_type": "code",
   "execution_count": 1,
   "id": "ead9d277",
   "metadata": {},
   "outputs": [],
   "source": [
    "import sys, os\n",
    "import pandas as pd\n",
    "import polars as pl"
   ]
  },
  {
   "cell_type": "code",
   "execution_count": 2,
   "id": "6e9ce5f2",
   "metadata": {},
   "outputs": [],
   "source": [
    "sys.path.append(f\"../\")"
   ]
  },
  {
   "cell_type": "code",
   "execution_count": 3,
   "id": "c91a76f7",
   "metadata": {},
   "outputs": [],
   "source": [
    "from agg_methods_cbcc import get_aggregation_methods_CBCC"
   ]
  },
  {
   "cell_type": "code",
   "execution_count": 4,
   "id": "5ab261b3",
   "metadata": {},
   "outputs": [],
   "source": [
    "from io_utils import get_accuracy, get_recall, load_dataset_profile, load_gt, load_human_responses"
   ]
  },
  {
   "cell_type": "code",
   "execution_count": null,
   "id": "ac394a97-7cb7-49c6-a8aa-a629d708ed4e",
   "metadata": {},
   "outputs": [],
   "source": [
    "!mkdir ../results_human_cbcc"
   ]
  },
  {
   "cell_type": "code",
   "execution_count": 6,
   "id": "b21240d7",
   "metadata": {},
   "outputs": [],
   "source": [
    "def get_save_file_path(dataset_profile, r):\n",
    "    dataset_name = dataset_profile[\"dataset_name\"]\n",
    "    n_classes = dataset_profile[\"n_classes\"]\n",
    "\n",
    "    file_name = f\"../results_human_cbcc/{dataset_name}_{r}.csv\"\n",
    "    if os.path.exists(file_name):\n",
    "        assert False, \"File already exists\"\n",
    "    with open(file_name, \"w\") as f:\n",
    "        f.write(\"dataset,scenario,method,ai_acc,r,num_ai,iter,convergence,accuracy,recall,uc_p,\")\n",
    "        for i in range(n_classes):\n",
    "            f.write(f\"uc_pih_{i},\")\n",
    "        for i in range(n_classes-1):\n",
    "            f.write(f\"uc_pia_{i},\")\n",
    "        f.write(f\"uc_pia_{i+1}\")\n",
    "        f.write(\"\\n\")\n",
    "    return file_name"
   ]
  },
  {
   "cell_type": "code",
   "execution_count": 7,
   "id": "5665c8de",
   "metadata": {},
   "outputs": [],
   "source": [
    "DATSETS = [\"dog\", \"face\", \"tiny\", \"adult\"]"
   ]
  },
  {
   "cell_type": "code",
   "execution_count": 8,
   "id": "c59b4078",
   "metadata": {},
   "outputs": [],
   "source": [
    "SEEDS = [12347, 77777, 2984, 298, 1102644]"
   ]
  },
  {
   "cell_type": "code",
   "execution_count": null,
   "id": "8b419416",
   "metadata": {},
   "outputs": [],
   "source": [
    "for dataset in DATSETS:\n",
    "    print(f\"Dataset: {dataset}\")\n",
    "    dataset_profile = load_dataset_profile(dataset)\n",
    "    gt, biased_tasks = load_gt(dataset)\n",
    "\n",
    "    methods = get_aggregation_methods_CBCC(dataset_profile[\"labels\"])\n",
    "    for r in dataset_profile[\"r_range\"]:\n",
    "        file_name = get_save_file_path(dataset_profile, r)\n",
    "        human_responses = load_human_responses(dataset, r)\n",
    "        ai_responses = human_responses.iloc[0:0].copy()\n",
    "        print(f\"File will be saved to: {file_name}\")\n",
    "        for iter in range(5):\n",
    "            for method in methods:\n",
    "                print(f\"Method: {method.name}\")\n",
    "                ret = method.fit_predict(human_responses, ai_responses, seed=SEEDS[iter])\n",
    "                acc = get_accuracy(gt, ret)\n",
    "                biased_acc = get_recall(gt, ret, biased_tasks)\n",
    "                print(f\"Accuracy: {acc}, Recall: {biased_acc}\")\n",
    "                uc_text = method.get_uc_text(dataset_profile[\"n_classes\"])\n",
    "                with open(file_name, \"a\") as f:\n",
    "                    f.write(f\"{dataset},*,{method.name},*,{r},0,{iter},-1,{acc},{biased_acc},{uc_text}\\n\")"
   ]
  },
  {
   "cell_type": "code",
   "execution_count": null,
   "id": "51a4b8d6",
   "metadata": {},
   "outputs": [],
   "source": []
  }
 ],
 "metadata": {
  "kernelspec": {
   "display_name": "Python 3 (ipykernel)",
   "language": "python",
   "name": "python3"
  },
  "language_info": {
   "codemirror_mode": {
    "name": "ipython",
    "version": 3
   },
   "file_extension": ".py",
   "mimetype": "text/x-python",
   "name": "python",
   "nbconvert_exporter": "python",
   "pygments_lexer": "ipython3",
   "version": "3.10.10"
  }
 },
 "nbformat": 4,
 "nbformat_minor": 5
}
