{
 "cells": [
  {
   "cell_type": "markdown",
   "id": "fbf30426",
   "metadata": {},
   "source": [
    "# Evaluate CBCC"
   ]
  },
  {
   "cell_type": "code",
   "execution_count": null,
   "id": "620411c6",
   "metadata": {},
   "outputs": [],
   "source": [
    "import sys"
   ]
  },
  {
   "cell_type": "code",
   "execution_count": null,
   "id": "93da3d68-2010-46bd-a931-e7ca165a86e4",
   "metadata": {},
   "outputs": [],
   "source": [
    "!@cd"
   ]
  },
  {
   "cell_type": "code",
   "execution_count": null,
   "id": "ecfb3972",
   "metadata": {},
   "outputs": [],
   "source": [
    "import polars as pl\n",
    "import pandas as pd\n",
    "import numpy as np\n",
    "\n",
    "np.random.seed(777)"
   ]
  },
  {
   "cell_type": "code",
   "execution_count": null,
   "id": "257fb907",
   "metadata": {},
   "outputs": [],
   "source": [
    "sys.path.append(f\"../../main_experiment\")\n",
    "sys.path.append(f\"../../methods\")"
   ]
  },
  {
   "cell_type": "code",
   "execution_count": null,
   "id": "ce36762b",
   "metadata": {},
   "outputs": [],
   "source": [
    "from cbcc_wrapper import CBCC"
   ]
  },
  {
   "cell_type": "code",
   "execution_count": null,
   "id": "04fadbec",
   "metadata": {},
   "outputs": [],
   "source": [
    "from io_utils import get_accuracy, get_recall, load_dataset_profile, load_gt, load_human_responses"
   ]
  },
  {
   "cell_type": "code",
   "execution_count": null,
   "id": "84a327f9",
   "metadata": {},
   "outputs": [],
   "source": [
    "human_df = pd.read_csv(\"../human_responses_with_gt.csv\")\n",
    "gt = human_df.filter([\"task\",\"gt\"]).drop_duplicates(keep='last')\n",
    "biased_tasks = gt[gt[\"gt\"]==4][\"task\"].unique()  \n",
    "gt = gt.set_index(\"task\")\n",
    "human_df = human_df.drop([\"gt\"], axis=1)"
   ]
  },
  {
   "cell_type": "code",
   "execution_count": null,
   "id": "46404ecd",
   "metadata": {},
   "outputs": [],
   "source": [
    "df0 = human_df.copy()\n",
    "df10 = human_df.copy()\n",
    "df20 = human_df.copy()"
   ]
  },
  {
   "cell_type": "code",
   "execution_count": null,
   "id": "4f1ee63f",
   "metadata": {},
   "outputs": [],
   "source": [
    "sp=[5,10,0]"
   ]
  },
  {
   "cell_type": "code",
   "execution_count": null,
   "id": "04820fd8",
   "metadata": {},
   "outputs": [],
   "source": [
    "for i in range(sp[0]):\n",
    "    aidf = pd.read_csv(f\"../ai_responses/AI_{i}.csv\")\n",
    "    df10 = pd.concat([df10, aidf], axis=0, ignore_index=True)\n",
    "for i in range(sp[1]):\n",
    "    aidf = pd.read_csv(f\"../ai_responses/AI_{i}.csv\")\n",
    "    df20 = pd.concat([df20, aidf], axis=0, ignore_index=True)"
   ]
  },
  {
   "cell_type": "code",
   "execution_count": null,
   "id": "97620906",
   "metadata": {},
   "outputs": [],
   "source": [
    "def generate_methods(n_iter=100000, random_state=0):\n",
    "    labels = [0,1,2,3,4,5]\n",
    "    return {\n",
    "        \"CBCC_M=2\" :  CBCC(labels, C=2),\n",
    "        \"CBCC_M=4\" :  CBCC(labels, C=4),\n",
    "        \"CBCC_M=8\" :  CBCC(labels, C=8),\n",
    "    }"
   ]
  },
  {
   "cell_type": "code",
   "execution_count": null,
   "id": "fe4def7b",
   "metadata": {},
   "outputs": [],
   "source": [
    "def get_record(num_ai, iter, method, acc, biased_acc):\n",
    "    return {\n",
    "        \"num_ai\": num_ai,\n",
    "        \"iteration\": iter,\n",
    "        \"method\": method,\n",
    "        \"accuracy\": acc,\n",
    "        \"recall\": biased_acc,\n",
    "    }\n",
    "\n",
    "records = []\n",
    "for i,df in enumerate([df10, df20,df0]):\n",
    "    print(f\"=== {sp[i]} AI Workers ===\")\n",
    "    for iter in range(5):\n",
    "        methods = generate_methods(random_state=iter)\n",
    "        for name, method in methods.items():\n",
    "            print(f\"--- {name} ---\")\n",
    "            ret = method.fit_predict(df, seed=iter*777)\n",
    "            acc = get_accuracy(gt, ret)\n",
    "            biased_acc = get_recall(gt, ret, biased_tasks)\n",
    "            print(f\"Accuracy: {acc}, Recall: {biased_acc}\")\n",
    "            record = get_record(sp[i], iter, name, acc, biased_acc)\n",
    "            records.append(record)\n",
    "result_df = pd.DataFrame(records)"
   ]
  },
  {
   "cell_type": "code",
   "execution_count": null,
   "id": "9e854a81",
   "metadata": {},
   "outputs": [],
   "source": [
    "result_df.to_csv(\"cbcc_results.csv\", index=False)"
   ]
  },
  {
   "cell_type": "code",
   "execution_count": null,
   "id": "047e6057-0976-4518-b419-e44966f45490",
   "metadata": {},
   "outputs": [],
   "source": []
  }
 ],
 "metadata": {
  "kernelspec": {
   "display_name": "Python 3 (ipykernel)",
   "language": "python",
   "name": "python3"
  },
  "language_info": {
   "codemirror_mode": {
    "name": "ipython",
    "version": 3
   },
   "file_extension": ".py",
   "mimetype": "text/x-python",
   "name": "python",
   "nbconvert_exporter": "python",
   "pygments_lexer": "ipython3",
   "version": "3.10.19"
  }
 },
 "nbformat": 4,
 "nbformat_minor": 5
}
