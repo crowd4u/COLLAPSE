{
 "cells": [
  {
   "cell_type": "code",
   "execution_count": 6,
   "id": "ffe3c790",
   "metadata": {},
   "outputs": [],
   "source": [
    "import polars as pl\n",
    "import pandas as pd\n",
    "import numpy as np\n",
    "\n",
    "np.random.seed(777)"
   ]
  },
  {
   "cell_type": "code",
   "execution_count": 7,
   "id": "6cfeba09-e675-45c8-9c0b-86610fd7fc0d",
   "metadata": {},
   "outputs": [
    {
     "name": "stdout",
     "output_type": "stream",
     "text": [
      "D:\\Source\\repos\\collaps\\additinal_experiment\\notebooks\n"
     ]
    }
   ],
   "source": [
    "!@cd"
   ]
  },
  {
   "cell_type": "code",
   "execution_count": 10,
   "id": "b4af7e85",
   "metadata": {},
   "outputs": [],
   "source": [
    "human_df = pd.read_csv(\"../human_responses_with_gt.csv\")\n",
    "gt = human_df.filter([\"task\",\"gt\"]).drop_duplicates(keep='last')\n",
    "biased_tasks = gt[gt[\"gt\"]==4][\"task\"].unique()  \n",
    "gt = gt.set_index(\"task\")\n",
    "human_df = human_df.drop([\"gt\"], axis=1)\n",
    "df0 = human_df.copy()\n",
    "df10 = human_df.copy()\n",
    "df20 = human_df.copy()\n",
    "sp=[5,10,0]\n",
    "for i in range(sp[0]):\n",
    "    aidf = pd.read_csv(f\"../ai_responses/AI_{i}.csv\")\n",
    "    df10 = pd.concat([df10, aidf], axis=0, ignore_index=True)\n",
    "for i in range(sp[1]):\n",
    "    aidf = pd.read_csv(f\"../ai_responses/AI_{i}.csv\")\n",
    "    df20 = pd.concat([df20, aidf], axis=0, ignore_index=True)\n",
    "df0 = df0.rename(columns={\"task\":\"question\", \"label\":\"answer\"})\n",
    "df10 = df10.rename(columns={\"task\":\"question\", \"label\":\"answer\"})\n",
    "df20 = df20.rename(columns={\"task\":\"question\", \"label\":\"answer\"})"
   ]
  },
  {
   "cell_type": "code",
   "execution_count": null,
   "id": "5260e6df",
   "metadata": {},
   "outputs": [],
   "source": [
    "df0.to_csv(\"../scripts/truth_infer_0.csv\", index=False)\n",
    "df10.to_csv(\"../scripts/truth_infer_5.csv\", index=False)\n",
    "df20.to_csv(\"../scripts/truth_infer_10.csv\", index=False)"
   ]
  },
  {
   "cell_type": "code",
   "execution_count": null,
   "id": "5b51091b",
   "metadata": {},
   "outputs": [],
   "source": []
  }
 ],
 "metadata": {
  "kernelspec": {
   "display_name": "Python 3 (ipykernel)",
   "language": "python",
   "name": "python3"
  },
  "language_info": {
   "codemirror_mode": {
    "name": "ipython",
    "version": 3
   },
   "file_extension": ".py",
   "mimetype": "text/x-python",
   "name": "python",
   "nbconvert_exporter": "python",
   "pygments_lexer": "ipython3",
   "version": "3.10.10"
  }
 },
 "nbformat": 4,
 "nbformat_minor": 5
}
