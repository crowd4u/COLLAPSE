{
 "cells": [
  {
   "cell_type": "markdown",
   "id": "51e65c99-3361-499e-a7b7-e49531451d18",
   "metadata": {},
   "source": [
    "# Summarize Results"
   ]
  },
  {
   "cell_type": "code",
   "execution_count": 114,
   "id": "25a7b385-9324-413b-8839-971086930134",
   "metadata": {},
   "outputs": [],
   "source": [
    "from functools import reduce"
   ]
  },
  {
   "cell_type": "code",
   "execution_count": 115,
   "id": "6f059532-1257-40bf-8337-5646878a67dd",
   "metadata": {},
   "outputs": [],
   "source": [
    "import polars as pl\n",
    "import pandas as pd"
   ]
  },
  {
   "cell_type": "markdown",
   "id": "1942b545-4927-4f5d-a2c0-1d072340a6e5",
   "metadata": {},
   "source": [
    "## Read BDS and HS-DS results"
   ]
  },
  {
   "cell_type": "code",
   "execution_count": 116,
   "id": "247fc22f-f8fa-4801-a558-2e02d48d2d1c",
   "metadata": {},
   "outputs": [],
   "source": [
    "files = [\n",
    "    \"../results/bds_hsds.csv\",\n",
    "    \"../results/bds_human.csv\",\n",
    "]"
   ]
  },
  {
   "cell_type": "code",
   "execution_count": 117,
   "id": "b6ae9b5d-87e4-4573-b3ab-f97cf6cd27b0",
   "metadata": {},
   "outputs": [],
   "source": [
    "for i,p in enumerate(files):\n",
    "    if i == 0:\n",
    "        df = pl.read_csv(p)\n",
    "    else:\n",
    "        tmp = pl.read_csv(p)\n",
    "        df = pl.concat([df, tmp])"
   ]
  },
  {
   "cell_type": "code",
   "execution_count": 118,
   "id": "16df2bfa-a7d2-4b25-987c-78cdbecdf6fb",
   "metadata": {},
   "outputs": [],
   "source": [
    "hsds_mcmc_only = df.filter(pl.col(\"method\").str.contains(\"HSDS-MCMC\"))\n",
    "bds_hsds_em = df.filter(~(pl.col(\"method\").str.contains(\"HSDS-MCMC\")))"
   ]
  },
  {
   "cell_type": "code",
   "execution_count": 119,
   "id": "93746d73-a223-475d-8407-2dec26b59ac4",
   "metadata": {},
   "outputs": [],
   "source": [
    "bds_hsds_em = bds_hsds_em.drop([\"uc_count\"])"
   ]
  },
  {
   "cell_type": "markdown",
   "id": "4abc1c1a-8d3a-41bc-a973-31d6354a6469",
   "metadata": {},
   "source": [
    "## Calculate the scores for $\\mbox{HS-DS}_{MCMC}$.\n",
    "The score is based on the case (or average of cases) with the fewest convergent variables."
   ]
  },
  {
   "cell_type": "code",
   "execution_count": 120,
   "id": "4f7cf2fb-68c2-456e-b3a7-aa9afa921626",
   "metadata": {},
   "outputs": [],
   "source": [
    "hsds_mcmc_result = hsds_mcmc_only.group_by(\"num_ai\",\"method\").agg(\n",
    "    pl.col(\"accuracy\").filter(pl.col(\"uc_count\") == pl.col(\"uc_count\").min()).mean().alias(\"min_uc_accuracy_mean\"),\n",
    "    pl.col(\"recall\").filter(pl.col(\"uc_count\") == pl.col(\"uc_count\").min()).mean().alias(\"min_uc_recall_mean\")\n",
    ").sort(\"num_ai\")"
   ]
  },
  {
   "cell_type": "code",
   "execution_count": 121,
   "id": "84eaf7cf-c262-429d-892f-94bfe95e52c9",
   "metadata": {},
   "outputs": [
    {
     "data": {
      "text/html": [
       "<div><style>\n",
       ".dataframe > thead > tr,\n",
       ".dataframe > tbody > tr {\n",
       "  text-align: right;\n",
       "  white-space: pre-wrap;\n",
       "}\n",
       "</style>\n",
       "<small>shape: (2, 4)</small><table border=\"1\" class=\"dataframe\"><thead><tr><th>num_ai</th><th>method</th><th>min_uc_accuracy_mean</th><th>min_uc_recall_mean</th></tr><tr><td>i64</td><td>str</td><td>f64</td><td>f64</td></tr></thead><tbody><tr><td>5</td><td>&quot;HSDS-MCMC(iter_sampling=3000)&quot;</td><td>0.905074</td><td>0.980583</td></tr><tr><td>10</td><td>&quot;HSDS-MCMC(iter_sampling=3000)&quot;</td><td>0.905074</td><td>0.980583</td></tr></tbody></table></div>"
      ],
      "text/plain": [
       "shape: (2, 4)\n",
       "┌────────┬───────────────────────────────┬──────────────────────┬────────────────────┐\n",
       "│ num_ai ┆ method                        ┆ min_uc_accuracy_mean ┆ min_uc_recall_mean │\n",
       "│ ---    ┆ ---                           ┆ ---                  ┆ ---                │\n",
       "│ i64    ┆ str                           ┆ f64                  ┆ f64                │\n",
       "╞════════╪═══════════════════════════════╪══════════════════════╪════════════════════╡\n",
       "│ 5      ┆ HSDS-MCMC(iter_sampling=3000) ┆ 0.905074             ┆ 0.980583           │\n",
       "│ 10     ┆ HSDS-MCMC(iter_sampling=3000) ┆ 0.905074             ┆ 0.980583           │\n",
       "└────────┴───────────────────────────────┴──────────────────────┴────────────────────┘"
      ]
     },
     "execution_count": 121,
     "metadata": {},
     "output_type": "execute_result"
    }
   ],
   "source": [
    "hsds_mcmc_result"
   ]
  },
  {
   "cell_type": "markdown",
   "id": "d4884612-43e6-4beb-91f7-07602592111b",
   "metadata": {},
   "source": [
    "## Calculate the scores for other methods."
   ]
  },
  {
   "cell_type": "code",
   "execution_count": 122,
   "id": "733b093c-7603-4f5e-bb1c-4b0f8a8b8752",
   "metadata": {},
   "outputs": [],
   "source": [
    "files = [\n",
    "    \"../results/catd_la_lfc_minmax_pmcrh_zc.csv\",\n",
    "    \"../results/cbcc.csv\",\n",
    "    \"../results/emds_glad_mace_mmsr_mv_onecoin.csv\",\n",
    "]\n",
    "df = bds_hsds_em"
   ]
  },
  {
   "cell_type": "code",
   "execution_count": 123,
   "id": "9843ece6-0b96-48fc-b18f-942498538fd5",
   "metadata": {},
   "outputs": [],
   "source": [
    "for i,p in enumerate(files):\n",
    "    tmp = pl.read_csv(p)\n",
    "    df = pl.concat([df, tmp])"
   ]
  },
  {
   "cell_type": "code",
   "execution_count": 124,
   "id": "fd3851b2-6661-4466-b1cd-357cefd160ef",
   "metadata": {},
   "outputs": [],
   "source": [
    "df_tab = (\n",
    "    df.group_by(['num_ai', 'method'])\n",
    "    .agg([\n",
    "        pl.col('accuracy').mean().alias('accuracy_mean'),\n",
    "        pl.col('accuracy').std().alias('accuracy_std'),\n",
    "        (pl.col('accuracy').std() / pl.col('accuracy').count().sqrt()).alias('accuracy_se'),\n",
    "        pl.col('recall').mean().alias('recall_mean'),\n",
    "        pl.col('recall').std().alias('recall_std'),\n",
    "        (pl.col('recall').std() / pl.col('recall').count().sqrt()).alias('recall_se'),\n",
    "    ])\n",
    "    .sort(['num_ai', 'method'])\n",
    ")"
   ]
  },
  {
   "cell_type": "code",
   "execution_count": 125,
   "id": "dddadce7-ba8b-42cb-b645-64b29c01810f",
   "metadata": {},
   "outputs": [],
   "source": [
    "cols = [\n",
    "    ('accuracy_mean', 'num_ai=0_mean_acc'),\n",
    "    ('accuracy_se', 'num_ai=0_se_acc'),\n",
    "    ('recall_mean', 'num_ai=0_mean_recall'),\n",
    "    ('recall_se', 'num_ai=0_se_recall'),\n",
    "    ('accuracy_mean', 'num_ai=5_mean_acc'),\n",
    "    ('accuracy_se', 'num_ai=5_se_acc'),\n",
    "    ('recall_mean', 'num_ai=5_mean_recall'),\n",
    "    ('recall_se', 'num_ai=5_se_recall'),\n",
    "    ('accuracy_mean', 'num_ai=10_mean_acc'),\n",
    "    ('accuracy_se', 'num_ai=10_se_acc'),\n",
    "    ('recall_mean', 'num_ai=10_mean_recall'),\n",
    "    ('recall_se', 'num_ai=10_se_recall'),\n",
    "]\n",
    "\n",
    "dfs = []\n",
    "for num_ai in [5, 10, 0]:\n",
    "    df_pivot = (\n",
    "        df_tab.filter(pl.col(\"num_ai\") == num_ai)\n",
    "        .select([\n",
    "            pl.col(\"method\"),\n",
    "            pl.col(\"accuracy_mean\"),\n",
    "            pl.col(\"accuracy_se\"),\n",
    "            pl.col(\"recall_mean\"),\n",
    "            pl.col(\"recall_se\"),\n",
    "        ])\n",
    "        .rename({\n",
    "            \"accuracy_mean\": f\"num_ai={num_ai}_mean_acc\",\n",
    "            \"accuracy_se\": f\"num_ai={num_ai}_se_acc\",\n",
    "            \"recall_mean\": f\"num_ai={num_ai}_mean_recall\",\n",
    "            \"recall_se\": f\"num_ai={num_ai}_se_recall\",\n",
    "        })\n",
    "    )\n",
    "    dfs.append(df_pivot)\n",
    "\n",
    "tab = reduce(lambda left, right: left.join(right, on=\"method\", how=\"full\"), dfs)\n",
    "tab = tab.sort(\"method\")\n",
    "tab = tab.drop([\"method_right\"])"
   ]
  },
  {
   "cell_type": "code",
   "execution_count": 126,
   "id": "f0c0f036-df24-4d93-97fa-ab14c01fe3bb",
   "metadata": {},
   "outputs": [],
   "source": [
    "num_cols = [col for col in tab.columns if col != 'method']"
   ]
  },
  {
   "cell_type": "code",
   "execution_count": 127,
   "id": "169961a1-48c0-432f-b57b-af7ff6f7a42e",
   "metadata": {},
   "outputs": [],
   "source": [
    "tab_num_fmt = tab.with_columns([\n",
    "    pl.col(c).map_elements(lambda x: f\"{x:.2f}\" if x is not None else \"-\", return_dtype=pl.Utf8)\n",
    "    for c in num_cols\n",
    "])"
   ]
  },
  {
   "cell_type": "code",
   "execution_count": 128,
   "id": "0800d2ae-63be-4d41-8503-bbc662d76f39",
   "metadata": {},
   "outputs": [],
   "source": [
    "for i in [0,5,10]:\n",
    "    tab_num_fmt = tab_num_fmt.with_columns(\n",
    "        (pl.lit(\"$\") + pl.col(f\"num_ai={i}_mean_acc\") + pl.lit(\" \\pm \") + pl.col(f\"num_ai={i}_se_acc\") + pl.lit(\"$\")).alias(f\"num_ai={i}_acc_se\")\n",
    "    )\n",
    "    tab_num_fmt = tab_num_fmt.with_columns(\n",
    "        (pl.lit(\"$\") + pl.col(f\"num_ai={i}_mean_recall\") + pl.lit(\" \\pm \") + pl.col(f\"num_ai={i}_se_recall\") + pl.lit(\"$\")).alias(f\"num_ai={i}_recall_se\")\n",
    "    )"
   ]
  },
  {
   "cell_type": "code",
   "execution_count": 129,
   "id": "c8399416-282b-4d99-9da8-0da73ea7c144",
   "metadata": {},
   "outputs": [],
   "source": [
    "tab_num_fmt = tab_num_fmt.select(\"method\", \"num_ai=0_acc_se\", \"num_ai=0_recall_se\", \n",
    "                                 \"num_ai=5_acc_se\", \"num_ai=5_recall_se\",\n",
    "                                   \"num_ai=10_acc_se\", \"num_ai=10_recall_se\")"
   ]
  },
  {
   "cell_type": "code",
   "execution_count": 130,
   "id": "39a2f409-3df2-4eca-84f5-62f4ee96dc8f",
   "metadata": {},
   "outputs": [
    {
     "data": {
      "text/plain": [
       "polars.config.Config"
      ]
     },
     "execution_count": 130,
     "metadata": {},
     "output_type": "execute_result"
    }
   ],
   "source": [
    "pl.Config.set_tbl_rows(-1)"
   ]
  },
  {
   "cell_type": "code",
   "execution_count": 131,
   "id": "c50154d7-73a7-4094-a1eb-23ecac0b81d4",
   "metadata": {},
   "outputs": [],
   "source": [
    "order = [\n",
    "    'EMDS',\n",
    "    'BDS(iter_sampling=3000)',\n",
    "    'CATD',\n",
    "    'CBCC_M=2',\n",
    "    'CBCC_M=4',\n",
    "    'CBCC_M=8',\n",
    "    'GLAD',\n",
    "    'LA1',\n",
    "    'LA2',\n",
    "    'LFC',\n",
    "    'MACE-EM',\n",
    "    'minmax',\n",
    "    'MMSR',\n",
    "    'MV',\n",
    "    'OneCoin',\n",
    "    'PM-CRH',\n",
    "    'ZC',\n",
    "    'HSDS-EM',\n",
    "]"
   ]
  },
  {
   "cell_type": "code",
   "execution_count": 132,
   "id": "785ef1bb-e2d1-437c-9939-44a986adcd21",
   "metadata": {},
   "outputs": [],
   "source": [
    "tab_num_fmt = tab_num_fmt.with_columns(\n",
    "    pl.col(\"method\").cast(pl.Enum(categories=order))\n",
    ").sort(\"method\")"
   ]
  },
  {
   "cell_type": "code",
   "execution_count": 133,
   "id": "75c97857-2c9d-4f0e-b802-d91ee47b8990",
   "metadata": {},
   "outputs": [
    {
     "data": {
      "text/html": [
       "<div><style>\n",
       ".dataframe > thead > tr,\n",
       ".dataframe > tbody > tr {\n",
       "  text-align: right;\n",
       "  white-space: pre-wrap;\n",
       "}\n",
       "</style>\n",
       "<small>shape: (18, 7)</small><table border=\"1\" class=\"dataframe\"><thead><tr><th>method</th><th>num_ai=0_acc_se</th><th>num_ai=0_recall_se</th><th>num_ai=5_acc_se</th><th>num_ai=5_recall_se</th><th>num_ai=10_acc_se</th><th>num_ai=10_recall_se</th></tr><tr><td>enum</td><td>str</td><td>str</td><td>str</td><td>str</td><td>str</td><td>str</td></tr></thead><tbody><tr><td>&quot;EMDS&quot;</td><td>&quot;$0.84 \\pm 0.00$&quot;</td><td>&quot;$0.50 \\pm 0.00$&quot;</td><td>&quot;$0.76 \\pm 0.00$&quot;</td><td>&quot;$0.02 \\pm 0.00$&quot;</td><td>&quot;$0.77 \\pm 0.00$&quot;</td><td>&quot;$0.07 \\pm 0.00$&quot;</td></tr><tr><td>&quot;BDS(iter_sampling=3000)&quot;</td><td>&quot;$0.87 \\pm 0.00$&quot;</td><td>&quot;$0.54 \\pm 0.00$&quot;</td><td>&quot;$0.84 \\pm 0.04$&quot;</td><td>&quot;$0.58 \\pm 0.24$&quot;</td><td>&quot;$0.77 \\pm 0.10$&quot;</td><td>&quot;$0.75 \\pm 0.19$&quot;</td></tr><tr><td>&quot;CATD&quot;</td><td>&quot;$0.84 \\pm 0.01$&quot;</td><td>&quot;$0.45 \\pm 0.02$&quot;</td><td>&quot;$0.76 \\pm 0.00$&quot;</td><td>&quot;$0.11 \\pm 0.01$&quot;</td><td>&quot;$0.74 \\pm 0.00$&quot;</td><td>&quot;$0.02 \\pm 0.00$&quot;</td></tr><tr><td>&quot;CBCC_M=2&quot;</td><td>&quot;$0.89 \\pm 0.00$&quot;</td><td>&quot;$0.73 \\pm 0.00$&quot;</td><td>&quot;$0.91 \\pm 0.00$&quot;</td><td>&quot;$1.00 \\pm 0.00$&quot;</td><td>&quot;$0.91 \\pm 0.00$&quot;</td><td>&quot;$0.98 \\pm 0.00$&quot;</td></tr><tr><td>&quot;CBCC_M=4&quot;</td><td>&quot;$0.89 \\pm 0.00$&quot;</td><td>&quot;$0.73 \\pm 0.00$&quot;</td><td>&quot;$0.91 \\pm 0.00$&quot;</td><td>&quot;$1.00 \\pm 0.00$&quot;</td><td>&quot;$0.91 \\pm 0.00$&quot;</td><td>&quot;$0.98 \\pm 0.00$&quot;</td></tr><tr><td>&quot;CBCC_M=8&quot;</td><td>&quot;$0.89 \\pm 0.00$&quot;</td><td>&quot;$0.73 \\pm 0.00$&quot;</td><td>&quot;$0.91 \\pm 0.00$&quot;</td><td>&quot;$1.00 \\pm 0.00$&quot;</td><td>&quot;$0.91 \\pm 0.00$&quot;</td><td>&quot;$0.98 \\pm 0.00$&quot;</td></tr><tr><td>&quot;GLAD&quot;</td><td>&quot;$0.85 \\pm 0.00$&quot;</td><td>&quot;$0.50 \\pm 0.00$&quot;</td><td>&quot;$0.74 \\pm 0.00$&quot;</td><td>&quot;$0.00 \\pm 0.00$&quot;</td><td>&quot;$0.74 \\pm 0.00$&quot;</td><td>&quot;$0.01 \\pm 0.00$&quot;</td></tr><tr><td>&quot;LA1&quot;</td><td>&quot;$0.83 \\pm 0.01$&quot;</td><td>&quot;$0.34 \\pm 0.02$&quot;</td><td>&quot;$0.76 \\pm 0.00$&quot;</td><td>&quot;$0.12 \\pm 0.00$&quot;</td><td>&quot;$0.75 \\pm 0.00$&quot;</td><td>&quot;$0.04 \\pm 0.00$&quot;</td></tr><tr><td>&quot;LA2&quot;</td><td>&quot;$0.84 \\pm 0.00$&quot;</td><td>&quot;$0.35 \\pm 0.02$&quot;</td><td>&quot;$0.76 \\pm 0.00$&quot;</td><td>&quot;$0.12 \\pm 0.00$&quot;</td><td>&quot;$0.75 \\pm 0.00$&quot;</td><td>&quot;$0.04 \\pm 0.00$&quot;</td></tr><tr><td>&quot;LFC&quot;</td><td>&quot;$0.84 \\pm 0.00$&quot;</td><td>&quot;$0.52 \\pm 0.00$&quot;</td><td>&quot;$0.84 \\pm 0.00$&quot;</td><td>&quot;$0.28 \\pm 0.00$&quot;</td><td>&quot;$0.82 \\pm 0.00$&quot;</td><td>&quot;$0.11 \\pm 0.00$&quot;</td></tr><tr><td>&quot;MACE-EM&quot;</td><td>&quot;$0.84 \\pm 0.00$&quot;</td><td>&quot;$0.53 \\pm 0.00$&quot;</td><td>&quot;$0.74 \\pm 0.00$&quot;</td><td>&quot;$0.00 \\pm 0.00$&quot;</td><td>&quot;$0.74 \\pm 0.00$&quot;</td><td>&quot;$0.00 \\pm 0.00$&quot;</td></tr><tr><td>&quot;minmax&quot;</td><td>&quot;$0.80 \\pm 0.00$&quot;</td><td>&quot;$0.00 \\pm 0.00$&quot;</td><td>&quot;$0.74 \\pm 0.00$&quot;</td><td>&quot;$0.02 \\pm 0.00$&quot;</td><td>&quot;$0.74 \\pm 0.00$&quot;</td><td>&quot;$0.01 \\pm 0.00$&quot;</td></tr><tr><td>&quot;MMSR&quot;</td><td>&quot;$0.85 \\pm 0.01$&quot;</td><td>&quot;$0.35 \\pm 0.01$&quot;</td><td>&quot;$0.74 \\pm 0.00$&quot;</td><td>&quot;$0.00 \\pm 0.00$&quot;</td><td>&quot;$0.74 \\pm 0.00$&quot;</td><td>&quot;$0.01 \\pm 0.00$&quot;</td></tr><tr><td>&quot;MV&quot;</td><td>&quot;$0.86 \\pm 0.00$&quot;</td><td>&quot;$0.37 \\pm 0.00$&quot;</td><td>&quot;$0.74 \\pm 0.00$&quot;</td><td>&quot;$0.00 \\pm 0.00$&quot;</td><td>&quot;$0.74 \\pm 0.00$&quot;</td><td>&quot;$0.01 \\pm 0.00$&quot;</td></tr><tr><td>&quot;OneCoin&quot;</td><td>&quot;$0.87 \\pm 0.00$&quot;</td><td>&quot;$0.50 \\pm 0.00$&quot;</td><td>&quot;$0.74 \\pm 0.00$&quot;</td><td>&quot;$0.00 \\pm 0.00$&quot;</td><td>&quot;$0.74 \\pm 0.00$&quot;</td><td>&quot;$0.00 \\pm 0.00$&quot;</td></tr><tr><td>&quot;PM-CRH&quot;</td><td>&quot;$0.85 \\pm 0.00$&quot;</td><td>&quot;$0.59 \\pm 0.00$&quot;</td><td>&quot;$0.85 \\pm 0.00$&quot;</td><td>&quot;$0.60 \\pm 0.00$&quot;</td><td>&quot;$0.85 \\pm 0.00$&quot;</td><td>&quot;$0.60 \\pm 0.00$&quot;</td></tr><tr><td>&quot;ZC&quot;</td><td>&quot;$0.86 \\pm 0.00$&quot;</td><td>&quot;$0.50 \\pm 0.00$&quot;</td><td>&quot;$0.76 \\pm 0.00$&quot;</td><td>&quot;$0.12 \\pm 0.00$&quot;</td><td>&quot;$0.75 \\pm 0.00$&quot;</td><td>&quot;$0.04 \\pm 0.00$&quot;</td></tr><tr><td>&quot;HSDS-EM&quot;</td><td>null</td><td>null</td><td>&quot;$0.82 \\pm 0.00$&quot;</td><td>&quot;$0.31 \\pm 0.00$&quot;</td><td>&quot;$0.78 \\pm 0.00$&quot;</td><td>&quot;$0.14 \\pm 0.00$&quot;</td></tr></tbody></table></div>"
      ],
      "text/plain": [
       "shape: (18, 7)\n",
       "┌──────────────┬─────────────┬─────────────┬─────────────┬─────────────┬─────────────┬─────────────┐\n",
       "│ method       ┆ num_ai=0_ac ┆ num_ai=0_re ┆ num_ai=5_ac ┆ num_ai=5_re ┆ num_ai=10_a ┆ num_ai=10_r │\n",
       "│ ---          ┆ c_se        ┆ call_se     ┆ c_se        ┆ call_se     ┆ cc_se       ┆ ecall_se    │\n",
       "│ enum         ┆ ---         ┆ ---         ┆ ---         ┆ ---         ┆ ---         ┆ ---         │\n",
       "│              ┆ str         ┆ str         ┆ str         ┆ str         ┆ str         ┆ str         │\n",
       "╞══════════════╪═════════════╪═════════════╪═════════════╪═════════════╪═════════════╪═════════════╡\n",
       "│ EMDS         ┆ $0.84 \\pm   ┆ $0.50 \\pm   ┆ $0.76 \\pm   ┆ $0.02 \\pm   ┆ $0.77 \\pm   ┆ $0.07 \\pm   │\n",
       "│              ┆ 0.00$       ┆ 0.00$       ┆ 0.00$       ┆ 0.00$       ┆ 0.00$       ┆ 0.00$       │\n",
       "│ BDS(iter_sam ┆ $0.87 \\pm   ┆ $0.54 \\pm   ┆ $0.84 \\pm   ┆ $0.58 \\pm   ┆ $0.77 \\pm   ┆ $0.75 \\pm   │\n",
       "│ pling=3000)  ┆ 0.00$       ┆ 0.00$       ┆ 0.04$       ┆ 0.24$       ┆ 0.10$       ┆ 0.19$       │\n",
       "│ CATD         ┆ $0.84 \\pm   ┆ $0.45 \\pm   ┆ $0.76 \\pm   ┆ $0.11 \\pm   ┆ $0.74 \\pm   ┆ $0.02 \\pm   │\n",
       "│              ┆ 0.01$       ┆ 0.02$       ┆ 0.00$       ┆ 0.01$       ┆ 0.00$       ┆ 0.00$       │\n",
       "│ CBCC_M=2     ┆ $0.89 \\pm   ┆ $0.73 \\pm   ┆ $0.91 \\pm   ┆ $1.00 \\pm   ┆ $0.91 \\pm   ┆ $0.98 \\pm   │\n",
       "│              ┆ 0.00$       ┆ 0.00$       ┆ 0.00$       ┆ 0.00$       ┆ 0.00$       ┆ 0.00$       │\n",
       "│ CBCC_M=4     ┆ $0.89 \\pm   ┆ $0.73 \\pm   ┆ $0.91 \\pm   ┆ $1.00 \\pm   ┆ $0.91 \\pm   ┆ $0.98 \\pm   │\n",
       "│              ┆ 0.00$       ┆ 0.00$       ┆ 0.00$       ┆ 0.00$       ┆ 0.00$       ┆ 0.00$       │\n",
       "│ CBCC_M=8     ┆ $0.89 \\pm   ┆ $0.73 \\pm   ┆ $0.91 \\pm   ┆ $1.00 \\pm   ┆ $0.91 \\pm   ┆ $0.98 \\pm   │\n",
       "│              ┆ 0.00$       ┆ 0.00$       ┆ 0.00$       ┆ 0.00$       ┆ 0.00$       ┆ 0.00$       │\n",
       "│ GLAD         ┆ $0.85 \\pm   ┆ $0.50 \\pm   ┆ $0.74 \\pm   ┆ $0.00 \\pm   ┆ $0.74 \\pm   ┆ $0.01 \\pm   │\n",
       "│              ┆ 0.00$       ┆ 0.00$       ┆ 0.00$       ┆ 0.00$       ┆ 0.00$       ┆ 0.00$       │\n",
       "│ LA1          ┆ $0.83 \\pm   ┆ $0.34 \\pm   ┆ $0.76 \\pm   ┆ $0.12 \\pm   ┆ $0.75 \\pm   ┆ $0.04 \\pm   │\n",
       "│              ┆ 0.01$       ┆ 0.02$       ┆ 0.00$       ┆ 0.00$       ┆ 0.00$       ┆ 0.00$       │\n",
       "│ LA2          ┆ $0.84 \\pm   ┆ $0.35 \\pm   ┆ $0.76 \\pm   ┆ $0.12 \\pm   ┆ $0.75 \\pm   ┆ $0.04 \\pm   │\n",
       "│              ┆ 0.00$       ┆ 0.02$       ┆ 0.00$       ┆ 0.00$       ┆ 0.00$       ┆ 0.00$       │\n",
       "│ LFC          ┆ $0.84 \\pm   ┆ $0.52 \\pm   ┆ $0.84 \\pm   ┆ $0.28 \\pm   ┆ $0.82 \\pm   ┆ $0.11 \\pm   │\n",
       "│              ┆ 0.00$       ┆ 0.00$       ┆ 0.00$       ┆ 0.00$       ┆ 0.00$       ┆ 0.00$       │\n",
       "│ MACE-EM      ┆ $0.84 \\pm   ┆ $0.53 \\pm   ┆ $0.74 \\pm   ┆ $0.00 \\pm   ┆ $0.74 \\pm   ┆ $0.00 \\pm   │\n",
       "│              ┆ 0.00$       ┆ 0.00$       ┆ 0.00$       ┆ 0.00$       ┆ 0.00$       ┆ 0.00$       │\n",
       "│ minmax       ┆ $0.80 \\pm   ┆ $0.00 \\pm   ┆ $0.74 \\pm   ┆ $0.02 \\pm   ┆ $0.74 \\pm   ┆ $0.01 \\pm   │\n",
       "│              ┆ 0.00$       ┆ 0.00$       ┆ 0.00$       ┆ 0.00$       ┆ 0.00$       ┆ 0.00$       │\n",
       "│ MMSR         ┆ $0.85 \\pm   ┆ $0.35 \\pm   ┆ $0.74 \\pm   ┆ $0.00 \\pm   ┆ $0.74 \\pm   ┆ $0.01 \\pm   │\n",
       "│              ┆ 0.01$       ┆ 0.01$       ┆ 0.00$       ┆ 0.00$       ┆ 0.00$       ┆ 0.00$       │\n",
       "│ MV           ┆ $0.86 \\pm   ┆ $0.37 \\pm   ┆ $0.74 \\pm   ┆ $0.00 \\pm   ┆ $0.74 \\pm   ┆ $0.01 \\pm   │\n",
       "│              ┆ 0.00$       ┆ 0.00$       ┆ 0.00$       ┆ 0.00$       ┆ 0.00$       ┆ 0.00$       │\n",
       "│ OneCoin      ┆ $0.87 \\pm   ┆ $0.50 \\pm   ┆ $0.74 \\pm   ┆ $0.00 \\pm   ┆ $0.74 \\pm   ┆ $0.00 \\pm   │\n",
       "│              ┆ 0.00$       ┆ 0.00$       ┆ 0.00$       ┆ 0.00$       ┆ 0.00$       ┆ 0.00$       │\n",
       "│ PM-CRH       ┆ $0.85 \\pm   ┆ $0.59 \\pm   ┆ $0.85 \\pm   ┆ $0.60 \\pm   ┆ $0.85 \\pm   ┆ $0.60 \\pm   │\n",
       "│              ┆ 0.00$       ┆ 0.00$       ┆ 0.00$       ┆ 0.00$       ┆ 0.00$       ┆ 0.00$       │\n",
       "│ ZC           ┆ $0.86 \\pm   ┆ $0.50 \\pm   ┆ $0.76 \\pm   ┆ $0.12 \\pm   ┆ $0.75 \\pm   ┆ $0.04 \\pm   │\n",
       "│              ┆ 0.00$       ┆ 0.00$       ┆ 0.00$       ┆ 0.00$       ┆ 0.00$       ┆ 0.00$       │\n",
       "│ HSDS-EM      ┆ null        ┆ null        ┆ $0.82 \\pm   ┆ $0.31 \\pm   ┆ $0.78 \\pm   ┆ $0.14 \\pm   │\n",
       "│              ┆             ┆             ┆ 0.00$       ┆ 0.00$       ┆ 0.00$       ┆ 0.00$       │\n",
       "└──────────────┴─────────────┴─────────────┴─────────────┴─────────────┴─────────────┴─────────────┘"
      ]
     },
     "execution_count": 133,
     "metadata": {},
     "output_type": "execute_result"
    }
   ],
   "source": [
    "tab_num_fmt"
   ]
  },
  {
   "cell_type": "code",
   "execution_count": null,
   "id": "87ab4dfd-97b8-4e8d-a283-2cb221fd1cc6",
   "metadata": {},
   "outputs": [],
   "source": []
  }
 ],
 "metadata": {
  "kernelspec": {
   "display_name": "Python 3 (ipykernel)",
   "language": "python",
   "name": "python3"
  },
  "language_info": {
   "codemirror_mode": {
    "name": "ipython",
    "version": 3
   },
   "file_extension": ".py",
   "mimetype": "text/x-python",
   "name": "python",
   "nbconvert_exporter": "python",
   "pygments_lexer": "ipython3",
   "version": "3.10.19"
  }
 },
 "nbformat": 4,
 "nbformat_minor": 5
}
