{
 "cells": [
  {
   "cell_type": "markdown",
   "id": "fbf30426",
   "metadata": {},
   "source": [
    "## Evaluate EMDS, OneCoin, GLAD, MACE, MMSR (, MV)"
   ]
  },
  {
   "cell_type": "code",
   "execution_count": null,
   "id": "620411c6",
   "metadata": {},
   "outputs": [],
   "source": [
    "import sys"
   ]
  },
  {
   "cell_type": "code",
   "execution_count": null,
   "id": "ecfb3972",
   "metadata": {},
   "outputs": [],
   "source": [
    "import polars as pl\n",
    "import pandas as pd\n",
    "import numpy as np\n",
    "\n",
    "np.random.seed(777)"
   ]
  },
  {
   "cell_type": "code",
   "execution_count": null,
   "id": "03245018",
   "metadata": {},
   "outputs": [],
   "source": [
    "from crowdkit.aggregation import *"
   ]
  },
  {
   "cell_type": "code",
   "execution_count": null,
   "id": "257fb907",
   "metadata": {},
   "outputs": [],
   "source": [
    "sys.path.append(f\"../../main_experiment\")"
   ]
  },
  {
   "cell_type": "code",
   "execution_count": null,
   "id": "04fadbec",
   "metadata": {},
   "outputs": [],
   "source": [
    "from io_utils import get_accuracy, get_recall, load_dataset_profile, load_gt, load_human_responses"
   ]
  },
  {
   "cell_type": "code",
   "execution_count": null,
   "id": "84a327f9",
   "metadata": {},
   "outputs": [],
   "source": [
    "human_df = pd.read_csv(\"../human_responses_with_gt.csv\")\n",
    "gt = human_df.filter([\"task\",\"gt\"]).drop_duplicates(keep='last')\n",
    "biased_tasks = gt[gt[\"gt\"]==4][\"task\"].unique()  \n",
    "gt = gt.set_index(\"task\")\n",
    "human_df = human_df.drop([\"gt\"], axis=1)"
   ]
  },
  {
   "cell_type": "code",
   "execution_count": null,
   "id": "46404ecd",
   "metadata": {},
   "outputs": [],
   "source": [
    "df0 = human_df.copy()\n",
    "df10 = human_df.copy()\n",
    "df20 = human_df.copy()"
   ]
  },
  {
   "cell_type": "code",
   "execution_count": null,
   "id": "4f1ee63f",
   "metadata": {},
   "outputs": [],
   "source": [
    "sp=[5,10,0]"
   ]
  },
  {
   "cell_type": "code",
   "execution_count": null,
   "id": "04820fd8",
   "metadata": {},
   "outputs": [],
   "source": [
    "for i in range(sp[0]):\n",
    "    aidf = pd.read_csv(f\"../ai_responses/AI_{i}.csv\")\n",
    "    df10 = pd.concat([df10, aidf], axis=0, ignore_index=True)\n",
    "for i in range(sp[1]):\n",
    "    aidf = pd.read_csv(f\"../ai_responses/AI_{i}.csv\")\n",
    "    df20 = pd.concat([df20, aidf], axis=0, ignore_index=True)"
   ]
  },
  {
   "cell_type": "code",
   "execution_count": null,
   "id": "97620906",
   "metadata": {},
   "outputs": [],
   "source": [
    "def generate_methods(n_iter=100000, random_state=0):\n",
    "    return {\n",
    "        \"EMDS\": DawidSkene(n_iter=n_iter),\n",
    "        \"GLAD\": GLAD(n_iter=n_iter),\n",
    "        \"MACE-EM\" : MACE(n_iter=50, method=\"em\"),\n",
    "        \"MMSR\": MMSR(n_iter=n_iter, random_state=random_state),\n",
    "        \"MV\": MajorityVote(),\n",
    "        \"OneCoin\" : OneCoinDawidSkene(n_iter=n_iter),\n",
    "    }"
   ]
  },
  {
   "cell_type": "code",
   "execution_count": null,
   "id": "fe4def7b",
   "metadata": {},
   "outputs": [],
   "source": [
    "def get_record(num_ai, iter, method, acc, biased_acc):\n",
    "    return {\n",
    "        \"num_ai\": num_ai,\n",
    "        \"iteration\": iter,\n",
    "        \"method\": method,\n",
    "        \"accuracy\": acc,\n",
    "        \"recall\": biased_acc,\n",
    "    }\n",
    "\n",
    "records = []\n",
    "for i,df in enumerate([df10, df20,df0]):\n",
    "    print(f\"=== {sp[i]} AI Workers ===\")\n",
    "    for iter in range(5):\n",
    "        methods = generate_methods(random_state=iter)\n",
    "        for name, method in methods.items():\n",
    "            print(f\"--- {name} ---\")\n",
    "            ret = method.fit_predict(df)\n",
    "            acc = get_accuracy(gt, ret)\n",
    "            biased_acc = get_recall(gt, ret, biased_tasks)\n",
    "            print(f\"Accuracy: {acc}, Recall: {biased_acc}\")\n",
    "            record = get_record(sp[i], iter, name, acc, biased_acc)\n",
    "            records.append(record)\n",
    "result_df = pd.DataFrame(records)"
   ]
  },
  {
   "cell_type": "code",
   "execution_count": null,
   "id": "9e854a81",
   "metadata": {},
   "outputs": [],
   "source": [
    "result_df.to_csv(\"../results/emds_glad_mace_mmsr_mv_onecoin.csv\", index=False)"
   ]
  },
  {
   "cell_type": "code",
   "execution_count": null,
   "id": "d7ec1888-2ebc-4d59-8edd-457f5fc30757",
   "metadata": {},
   "outputs": [],
   "source": []
  }
 ],
 "metadata": {
  "kernelspec": {
   "display_name": "Python 3 (ipykernel)",
   "language": "python",
   "name": "python3"
  },
  "language_info": {
   "codemirror_mode": {
    "name": "ipython",
    "version": 3
   },
   "file_extension": ".py",
   "mimetype": "text/x-python",
   "name": "python",
   "nbconvert_exporter": "python",
   "pygments_lexer": "ipython3",
   "version": "3.10.19"
  }
 },
 "nbformat": 4,
 "nbformat_minor": 5
}
