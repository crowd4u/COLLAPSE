{
 "cells": [
  {
   "cell_type": "markdown",
   "id": "fbf30426",
   "metadata": {},
   "source": [
    "# Evaluate BDS, HS-DS"
   ]
  },
  {
   "cell_type": "code",
   "execution_count": null,
   "id": "620411c6",
   "metadata": {},
   "outputs": [],
   "source": [
    "import sys"
   ]
  },
  {
   "cell_type": "code",
   "execution_count": null,
   "id": "ecfb3972",
   "metadata": {},
   "outputs": [],
   "source": [
    "import polars as pl\n",
    "import pandas as pd\n",
    "import numpy as np\n",
    "\n",
    "np.random.seed(777)"
   ]
  },
  {
   "cell_type": "code",
   "execution_count": null,
   "id": "257fb907",
   "metadata": {},
   "outputs": [],
   "source": [
    "sys.path.append(f\"../../main_experiment\")\n",
    "sys.path.append(f\"../../methods\")"
   ]
  },
  {
   "cell_type": "code",
   "execution_count": null,
   "id": "6769134b-e7e8-44db-86ad-edd64b4aaf04",
   "metadata": {},
   "outputs": [],
   "source": [
    "from hsds_stan import HSDS_Stan, SeparatedBDS\n",
    "from hsds_em import HSDS_EM\n",
    "from bds_stan_wrapper import BDS"
   ]
  },
  {
   "cell_type": "code",
   "execution_count": null,
   "id": "04fadbec",
   "metadata": {},
   "outputs": [],
   "source": [
    "from io_utils import get_accuracy, get_recall, load_dataset_profile, load_gt, load_human_responses"
   ]
  },
  {
   "cell_type": "code",
   "execution_count": null,
   "id": "84a327f9",
   "metadata": {},
   "outputs": [],
   "source": [
    "human_df = pd.read_csv(\"../human_responses_with_gt.csv\")\n",
    "gt = human_df.filter([\"task\",\"gt\"]).drop_duplicates(keep='last')\n",
    "biased_tasks = gt[gt[\"gt\"]==4][\"task\"].unique()\n",
    "gt = gt.set_index(\"task\")\n",
    "human_df = human_df.drop([\"gt\"], axis=1)"
   ]
  },
  {
   "cell_type": "markdown",
   "id": "d7da1dfe-e59b-4f4d-ad38-7a593e5807b5",
   "metadata": {},
   "source": [
    "## Utils"
   ]
  },
  {
   "cell_type": "code",
   "execution_count": null,
   "id": "9628af5c-1eda-4c07-8d29-230bc6160db3",
   "metadata": {},
   "outputs": [],
   "source": [
    "def get_BDS_instance(labels, iter_warmup, iter_sampling, r):\n",
    "    infer_params = {\n",
    "        \"iter_warmup\": iter_warmup,\n",
    "        \"iter_sampling\": iter_sampling,\n",
    "    }\n",
    "    return SeparatedBDS(\n",
    "        labels=labels,\n",
    "        algorithm=\"mcmc\",\n",
    "        init_worker_accuracy=r,\n",
    "        infer_params=infer_params,\n",
    "    )\n",
    "\n",
    "def get_HSDS_instance(labels, iter_warmup, iter_sampling, r):\n",
    "    infer_params = {\n",
    "        \"iter_warmup\": iter_warmup,\n",
    "        \"iter_sampling\": iter_sampling,\n",
    "    }\n",
    "    return HSDS_Stan(\n",
    "        labels=labels,\n",
    "        algorithm=\"mcmc\",\n",
    "        init_worker_accuracy=r,\n",
    "        infer_params=infer_params\n",
    "    )"
   ]
  },
  {
   "cell_type": "code",
   "execution_count": null,
   "id": "97620906",
   "metadata": {},
   "outputs": [],
   "source": [
    "def generate_methods(n_iter=100000, r=0.75, random_state=0):\n",
    "    labels = [0,1,2,3,4,5]\n",
    "    return {\n",
    "        \"HSDS-EM\": HSDS_EM(n_iter=n_iter, r=r),\n",
    "        \"HSDS-MCMC(iter_sampling=3000)\": get_HSDSmcmc_instance(labels, iter_warmup=1500//2, iter_sampling=3000//2, r=r),\n",
    "        \"BDS(iter_sampling=3000)\": get_BDS_instance(labels, iter_warmup=1500, iter_sampling=3000, r=r),\n",
    "    }"
   ]
  },
  {
   "cell_type": "code",
   "execution_count": null,
   "id": "0a5b03a8-6592-4852-9165-84fce265add5",
   "metadata": {},
   "outputs": [],
   "source": [
    "def get_record(num_ai, iter, method, acc, biased_acc, uc_count):\n",
    "    return {\n",
    "        \"num_ai\": num_ai,\n",
    "        \"iteration\": iter,\n",
    "        \"method\": method,\n",
    "        \"accuracy\": acc,\n",
    "        \"recall\": biased_acc,\n",
    "        \"uc_count\": uc_count\n",
    "    }"
   ]
  },
  {
   "cell_type": "code",
   "execution_count": null,
   "id": "7b10bdaa-02bf-4a30-8a1a-c9a53f5029c5",
   "metadata": {},
   "outputs": [],
   "source": [
    "def get_uc_text(obj, n_classes: int) -> str:\n",
    "    text = f\"{obj.p_unconverged_count},\"\n",
    "    for c in obj.pih_unconverged_count:\n",
    "        text += f\"{c},\"\n",
    "    for c in obj.pia_unconverged_count:\n",
    "        text += f\"{c},\"\n",
    "    return text[:-1]"
   ]
  },
  {
   "cell_type": "markdown",
   "id": "8d0afab8-a1f5-46da-815a-b467432c3fe8",
   "metadata": {},
   "source": [
    "## Step1: Human and AI results"
   ]
  },
  {
   "cell_type": "code",
   "execution_count": null,
   "id": "8801613c-c6fd-438d-aabf-306b8960dbc2",
   "metadata": {},
   "outputs": [],
   "source": [
    "sp = [5,10]"
   ]
  },
  {
   "cell_type": "code",
   "execution_count": null,
   "id": "04820fd8",
   "metadata": {},
   "outputs": [],
   "source": [
    "for i in range(sp[0]):\n",
    "    aidf = pd.read_csv(f\"../ai_responses/AI_{i}.csv\")\n",
    "    if i != 0:\n",
    "        df10 = pd.concat([df10, aidf], axis=0, ignore_index=True)\n",
    "    else:\n",
    "        df10 = aidf\n",
    "for i in range(sp[1]):\n",
    "    aidf = pd.read_csv(f\"../ai_responses/AI_{i}.csv\")\n",
    "    if i != 0:\n",
    "        df20 = pd.concat([df20, aidf], axis=0, ignore_index=True)\n",
    "    else:\n",
    "        df20 = aidf"
   ]
  },
  {
   "cell_type": "code",
   "execution_count": null,
   "id": "fe4def7b",
   "metadata": {
    "scrolled": true
   },
   "outputs": [],
   "source": [
    "records = []\n",
    "for i,aidf in enumerate([df10, df20]):\n",
    "    print(f\"=== {sp[i]} AI Workers ===\")\n",
    "    for iter in range(5):\n",
    "        methods = generate_methods(random_state=iter)\n",
    "        for name, method in methods.items():\n",
    "            print(f\"--- {name} ---\")\n",
    "            ret = method.fit_predict(human_df, aidf)\n",
    "            acc = get_accuracy(gt, ret)\n",
    "            biased_acc = get_recall(gt, ret, biased_tasks)\n",
    "            print(f\"Accuracy: {acc}, Recall: {biased_acc}\")\n",
    "            try:\n",
    "                uc_text = get_uc_text(method, 6)\n",
    "            except AttributeError:\n",
    "                uc_text = \"-1\"\n",
    "            uc_count = np.array([int(s) for s in uc_text.split(\",\")]).sum()\n",
    "            record = get_record(sp[i], iter, name, acc, biased_acc, uc_count)\n",
    "            records.append(record)\n",
    "            print(record)\n",
    "result_df = pd.DataFrame(records)"
   ]
  },
  {
   "cell_type": "code",
   "execution_count": null,
   "id": "9e854a81",
   "metadata": {},
   "outputs": [],
   "source": [
    "result_df.to_csv(\"../results/bds_hsds.csv\", index=False)"
   ]
  },
  {
   "cell_type": "markdown",
   "id": "a6ef5d7a-4527-45ef-8dfb-3e3371a00504",
   "metadata": {},
   "source": [
    "## Step2: Human-only Reslts (BDS)"
   ]
  },
  {
   "cell_type": "code",
   "execution_count": null,
   "id": "7218e504-3501-4b9d-b245-1b109bfb303c",
   "metadata": {},
   "outputs": [],
   "source": [
    "def get_BDS_instance_human_only(labels, iter_warmup, iter_sampling, r):\n",
    "    infer_params = {\n",
    "        \"iter_warmup\": iter_warmup,\n",
    "        \"iter_sampling\": iter_sampling,\n",
    "    }\n",
    "    return BDS(\n",
    "        labels=labels,\n",
    "        algorithm=\"mcmc\",\n",
    "        init_worker_accuracy=r,\n",
    "        infer_params=infer_params,\n",
    "    )"
   ]
  },
  {
   "cell_type": "code",
   "execution_count": null,
   "id": "ed5c5de2-51c2-406e-98f8-318b7d46e7fc",
   "metadata": {},
   "outputs": [],
   "source": [
    "def generate_methods_human_only(n_iter=100000, r=0.75, random_state=0):\n",
    "    labels = [0,1,2,3,4,5]\n",
    "    return {\n",
    "        \"BDS(iter_sampling=3000)\": get_BDS_instance_human_only(labels, iter_warmup=1500, iter_sampling=3000, r=r),\n",
    "    }"
   ]
  },
  {
   "cell_type": "code",
   "execution_count": null,
   "id": "438d1b7e-b747-447e-a932-746dddcdb592",
   "metadata": {},
   "outputs": [],
   "source": [
    "records = []\n",
    "for iter in range(5):\n",
    "    methods = generate_methods_human_only(random_state=iter)\n",
    "    for name, method in methods.items():\n",
    "        print(f\"--- {name} ---\")\n",
    "        ret = method.fit_predict(human_df, check_rhat=True)\n",
    "        acc = get_accuracy(gt, ret)\n",
    "        biased_acc = get_recall(gt, ret, biased_tasks)\n",
    "        print(f\"Accuracy: {acc}, Recall: {biased_acc}\")\n",
    "        uc_count = method.uc_count_bds\n",
    "        print(\"uc_count:\", uc_count)\n",
    "        record = get_record(0, iter, name, acc, biased_acc, uc_count)\n",
    "        records.append(record)\n",
    "result_df = pd.DataFrame(records)"
   ]
  },
  {
   "cell_type": "code",
   "execution_count": null,
   "id": "16967c9e-9ac8-4423-bbb3-152540757e72",
   "metadata": {},
   "outputs": [],
   "source": [
    "result_df.to_csv(\"../results/bds_human.csv\", index=False)"
   ]
  },
  {
   "cell_type": "code",
   "execution_count": 18,
   "id": "2c7d97c7-b8f0-4699-932d-aae3c2def0ce",
   "metadata": {},
   "outputs": [],
   "source": [
    "#cleanup\n",
    "!rm -r outputs"
   ]
  },
  {
   "cell_type": "code",
   "execution_count": null,
   "id": "1f84600c-b25f-4296-ae95-43f5de1983dd",
   "metadata": {},
   "outputs": [],
   "source": []
  }
 ],
 "metadata": {
  "kernelspec": {
   "display_name": "Python 3 (ipykernel)",
   "language": "python",
   "name": "python3"
  },
  "language_info": {
   "codemirror_mode": {
    "name": "ipython",
    "version": 3
   },
   "file_extension": ".py",
   "mimetype": "text/x-python",
   "name": "python",
   "nbconvert_exporter": "python",
   "pygments_lexer": "ipython3",
   "version": "3.10.19"
  }
 },
 "nbformat": 4,
 "nbformat_minor": 5
}
